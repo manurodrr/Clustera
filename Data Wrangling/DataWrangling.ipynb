{
 "cells": [
  {
   "cell_type": "markdown",
   "id": "6d0f9214",
   "metadata": {},
   "source": [
    "# Data Wrangling"
   ]
  },
  {
   "cell_type": "code",
   "execution_count": 1,
   "id": "7a7fe000",
   "metadata": {},
   "outputs": [],
   "source": [
    "import pandas as pd\n",
    "import os\n",
    "import seaborn as sns\n",
    "import matplotlib.pyplot as plt\n",
    "from scipy.stats import normaltest, anderson\n",
    "import statsmodels.api as sm"
   ]
  },
  {
   "cell_type": "markdown",
   "id": "4291d95a",
   "metadata": {},
   "source": [
    "## Limpieza de Datos"
   ]
  },
  {
   "cell_type": "code",
   "execution_count": 2,
   "id": "095f6eec",
   "metadata": {},
   "outputs": [
    {
     "name": "stderr",
     "output_type": "stream",
     "text": [
      "/var/folders/8n/8bjdlpfd1fxggmklmx0rdw8w0000gn/T/ipykernel_10660/1030031350.py:1: DtypeWarning: Columns (22,28) have mixed types. Specify dtype option on import or set low_memory=False.\n",
      "  iar_Reservaciones = pd.read_csv(\"/Users/fernandalee/Documents/archivos_reto/iar_Reservaciones.csv\")\n"
     ]
    }
   ],
   "source": [
    "iar_Reservaciones = pd.read_csv(\"/Users/fernandalee/Documents/archivos_reto/iar_Reservaciones.csv\")\n",
    "\n",
    "## Eliminación de filas con datos atípicos\n",
    "iar_Reservaciones = iar_Reservaciones[iar_Reservaciones[\"aa_h_num_per\"] == 0]\n",
    "iar_Reservaciones = iar_Reservaciones[iar_Reservaciones[\"h_tfa_total\"] >= 0]\n",
    "iar_Reservaciones = iar_Reservaciones[iar_Reservaciones[\"h_num_per\"] <= 30]\n",
    "iar_Reservaciones = iar_Reservaciones[iar_Reservaciones[\"h_num_noc\"] <= 200]\n",
    "\n",
    "Ventas = pd.read_csv(\"/Users/fernandalee/Documents/archivos_reto/iaab_Detalles_Vtas.csv\")\n",
    "Ventas = Ventas[Ventas[\"cantidad_ali\"] >= 0]\n",
    "Ventas = Ventas[Ventas[\"cantidad_beb\"] >= 0]\n",
    "\n",
    "\n",
    "iar_Reservaciones['Fecha_hoy'] = pd.to_datetime(iar_Reservaciones['Fecha_hoy'], errors='coerce')\n",
    "iar_Reservaciones['Fecha_hoy'] = iar_Reservaciones['Fecha_hoy'].dt.date\n",
    "\n",
    "## Conversión de moneda a dolar\n",
    "iar_Reservaciones[\"h_tfa_total\"] = iar_Reservaciones[\"h_tfa_total\"] / 20\n",
    "\n",
    "## Eliminar columnas innecesarias\n",
    "iar_Reservaciones = iar_Reservaciones[[col for col in iar_Reservaciones.columns if not col.startswith(\"aa\")]]"
   ]
  },
  {
   "cell_type": "markdown",
   "id": "337ab28e",
   "metadata": {},
   "source": [
    "## Búsqueda de columnas ID en otras tablas"
   ]
  },
  {
   "cell_type": "code",
   "execution_count": 3,
   "id": "90d71586",
   "metadata": {},
   "outputs": [
    {
     "name": "stdout",
     "output_type": "stream",
     "text": [
      "Error leyendo iaab_Cubiertos_pdia.csv: No columns to parse from file\n",
      "Error leyendo iaab_Cabez_Status.csv: No columns to parse from file\n",
      "Error leyendo iaab_Cabez_Status_pan_aa.csv: No columns to parse from file\n",
      "Error leyendo iaab_Cubiertos_pan2.csv: No columns to parse from file\n",
      "Error leyendo iaab_Cubiertos_pan.csv: No columns to parse from file\n",
      "Error leyendo iaab_Cubiertos_pan1.csv: No columns to parse from file\n",
      "Error leyendo iaab_Cajas.csv: No columns to parse from file\n",
      "Error leyendo iaab_clasif_hoteles.csv: No columns to parse from file\n",
      "Error leyendo iaab_Cabez_Status_pdia.csv: No columns to parse from file\n",
      "Error leyendo iaab_Cubiertos_pdia1.csv: No columns to parse from file\n",
      "Error leyendo iaab_Cubiertos_pdia2.csv: No columns to parse from file\n",
      "Error leyendo iaab_Cabez_Status_phis.csv: No columns to parse from file\n",
      "Error leyendo iaab_Cabez_Status_pan.csv: No columns to parse from file\n",
      "Error leyendo iaab_Cabez_Status_phis_aa.csv: No columns to parse from file\n",
      "Error leyendo iaab_Cubiertos_pan_aa.csv: No columns to parse from file\n",
      "Error leyendo iaab_Cubiertos.csv: No columns to parse from file\n",
      "Error leyendo iaab_Cubiertos_phis.csv: No columns to parse from file\n",
      "Error leyendo iaab_Cubiertos_phis1.csv: No columns to parse from file\n",
      "Error leyendo iaab_BoDwhEmpresas.csv: No columns to parse from file\n",
      "Error leyendo iaab_Cubiertos_phis2.csv: No columns to parse from file\n",
      "\n",
      "Archivo: iar_Transacciones1.csv\n",
      "Columnas que coinciden: ['ID_empresa']\n",
      "\n",
      "Archivo: iar_Est_Ingresos_Diarios.csv\n",
      "Columnas que coinciden: ['ID_empresa']\n",
      "\n",
      "Archivo: iar_Ocupaciones_phis_aa.csv\n",
      "Columnas que coinciden: ['ID_Programa', 'ID_Paquete', 'ID_Segmento_Comp', 'ID_Agencia', 'ID_empresa', 'ID_Tipo_Habitacion', 'ID_canal']\n",
      "\n",
      "Archivo: iar_repitencia_pdia.csv\n",
      "Columnas que coinciden: ['ID_Agencia', 'ID_empresa', 'ID_Tipo_Habitacion', 'ID_canal']\n",
      "\n",
      "Archivo: iar_Cancelaciones_phis.csv\n",
      "Columnas que coinciden: ['ID_Programa', 'ID_Paquete', 'ID_Segmento_Comp', 'ID_Agencia', 'ID_empresa', 'ID_Tipo_Habitacion', 'ID_canal', 'ID_Pais_Origen']\n",
      "\n",
      "Archivo: iar_ingreso_diario_pdia_aa.csv\n",
      "Columnas que coinciden: ['ID_Agencia', 'ID_empresa', 'ID_Tipo_Habitacion']\n",
      "\n",
      "Archivo: iar_repitencia_pan.csv\n",
      "Columnas que coinciden: ['ID_Agencia', 'ID_empresa', 'ID_Tipo_Habitacion', 'ID_canal']\n",
      "\n",
      "Archivo: iar_Agencias.csv\n",
      "Columnas que coinciden: ['ID_Agencia']\n",
      "\n",
      "Archivo: Ventas_final.csv\n",
      "Columnas que coinciden: ['ID_empresa']\n",
      "\n",
      "Archivo: iar_Cancelaciones_phis_aa.csv\n",
      "Columnas que coinciden: ['ID_Programa', 'ID_Paquete', 'ID_Segmento_Comp', 'ID_Agencia', 'ID_empresa', 'ID_Tipo_Habitacion', 'ID_canal', 'ID_Pais_Origen']\n",
      "\n",
      "Archivo: iar_Reservaciones_pan_aa.csv\n",
      "Columnas que coinciden: ['ID_Reserva', 'ID_Programa', 'ID_Paquete', 'ID_Segmento_Comp', 'ID_Agencia', 'ID_empresa', 'ID_Tipo_Habitacion', 'ID_canal', 'ID_Pais_Origen', 'ID_estatus_reservaciones']\n",
      "\n",
      "Archivo: iaab_Presupuestos_pdia.csv\n",
      "Columnas que coinciden: ['ID_empresa']\n",
      "\n",
      "Archivo: iaab_Presupuestos.csv\n",
      "Columnas que coinciden: ['ID_empresa']\n",
      "\n",
      "Archivo: iar_Transacciones_pan_aa.csv\n",
      "Columnas que coinciden: ['ID_empresa']\n",
      "\n",
      "Archivo: iar_hotvta2_pdia.csv\n",
      "Columnas que coinciden: ['ID_Programa', 'ID_Paquete', 'ID_Segmento_Comp', 'ID_Agencia', 'ID_empresa', 'ID_Tipo_Habitacion', 'ID_canal']\n",
      "\n",
      "Archivo: iar_Transacciones_pdia.csv\n",
      "Columnas que coinciden: ['ID_empresa']\n",
      "\n",
      "Archivo: iaab_Detalles_Vtas_phis.csv\n",
      "Columnas que coinciden: ['ID_empresa']\n",
      "\n",
      "Archivo: iar_Detalles_Vtas.csv\n",
      "Columnas que coinciden: ['ID_empresa']\n",
      "\n",
      "Archivo: Reservaciones.csv\n",
      "Columnas que coinciden: ['ID_Reserva', 'ID_Tipo_Habitacion', 'ID_Pais_Origen']\n",
      "\n",
      "Archivo: iar_Reservaciones_phis.csv\n",
      "Columnas que coinciden: ['ID_Reserva', 'ID_Programa', 'ID_Paquete', 'ID_Segmento_Comp', 'ID_Agencia', 'ID_empresa', 'ID_Tipo_Habitacion', 'ID_canal', 'ID_Pais_Origen', 'ID_estatus_reservaciones']\n",
      "\n",
      "Archivo: iar_Reservaciones_pan.csv\n",
      "Columnas que coinciden: ['ID_Reserva', 'ID_Programa', 'ID_Paquete', 'ID_Segmento_Comp', 'ID_Agencia', 'ID_empresa', 'ID_Tipo_Habitacion', 'ID_canal', 'ID_Pais_Origen', 'ID_estatus_reservaciones']\n",
      "\n",
      "Archivo: iar_hoteles_market_pdia.csv\n",
      "Columnas que coinciden: ['ID_empresa']\n",
      "\n",
      "Archivo: iar_Tipos_Habitaciones.csv\n",
      "Columnas que coinciden: ['ID_Tipo_Habitacion']\n",
      "\n",
      "Archivo: iar_hot_est_phis.csv\n",
      "Columnas que coinciden: ['ID_empresa', 'ID_Tipo_Habitacion']\n",
      "\n",
      "Archivo: iar_empresas_demo.csv\n",
      "Columnas que coinciden: ['ID_empresa']\n",
      "\n",
      "Archivo: iaab_Detalles_Vtas.csv\n",
      "Columnas que coinciden: ['ID_empresa']\n",
      "\n",
      "Archivo: iar_canales.csv\n",
      "Columnas que coinciden: ['ID_canal']\n",
      "\n",
      "Archivo: iar_presupuestos_ingresos_pan.csv\n",
      "Columnas que coinciden: ['ID_Segmento_Comp', 'ID_Tipo_Habitacion', 'ID_canal']\n",
      "\n",
      "Archivo: iar_Cancelaciones_pan.csv\n",
      "Columnas que coinciden: ['ID_Programa', 'ID_Paquete', 'ID_Segmento_Comp', 'ID_Agencia', 'ID_empresa', 'ID_Tipo_Habitacion', 'ID_canal', 'ID_Pais_Origen']\n",
      "\n",
      "Archivo: iar_Transacciones_phis_aa.csv\n",
      "Columnas que coinciden: ['ID_empresa']\n",
      "\n",
      "Archivo: iar_hottra1_phis.csv\n",
      "Columnas que coinciden: ['ID_empresa']\n",
      "\n",
      "Archivo: iar_Cancelaciones_pan_aa.csv\n",
      "Columnas que coinciden: ['ID_Programa', 'ID_Paquete', 'ID_Segmento_Comp', 'ID_Agencia', 'ID_empresa', 'ID_Tipo_Habitacion', 'ID_canal', 'ID_Pais_Origen']\n",
      "\n",
      "Archivo: iaab_Detalles_Vtas_phis_aa.csv\n",
      "Columnas que coinciden: ['ID_empresa']\n",
      "\n",
      "Archivo: iar_repitencia_phis_aa.csv\n",
      "Columnas que coinciden: ['ID_Agencia', 'ID_empresa', 'ID_Tipo_Habitacion', 'ID_canal']\n",
      "\n",
      "Archivo: iar_hot_est.csv\n",
      "Columnas que coinciden: ['ID_empresa', 'ID_Tipo_Habitacion']\n",
      "\n",
      "Archivo: iaab_empresas.csv\n",
      "Columnas que coinciden: ['ID_empresa']\n",
      "\n",
      "Archivo: iar_ocupaciones_bkp.csv\n",
      "Columnas que coinciden: ['ID_Programa', 'ID_Paquete', 'ID_Segmento_Comp', 'ID_Agencia', 'ID_empresa', 'ID_Tipo_Habitacion', 'ID_canal']\n",
      "\n",
      "Archivo: iar_Transacciones_pdia_aa.csv\n",
      "Columnas que coinciden: ['ID_empresa']\n",
      "\n",
      "Archivo: iar_presupuestos_ingresos_pdia.csv\n",
      "Columnas que coinciden: ['ID_Segmento_Comp', 'ID_Tipo_Habitacion', 'ID_canal']\n",
      "\n",
      "Archivo: iar_Ocupaciones_pan.csv\n",
      "Columnas que coinciden: ['ID_Programa', 'ID_Paquete', 'ID_Segmento_Comp', 'ID_Agencia', 'ID_empresa', 'ID_Tipo_Habitacion', 'ID_canal']\n",
      "\n",
      "Archivo: iar_Ocupaciones_pdia.csv\n",
      "Columnas que coinciden: ['ID_Programa', 'ID_Paquete', 'ID_Segmento_Comp', 'ID_Agencia', 'ID_empresa', 'ID_Tipo_Habitacion', 'ID_canal']\n",
      "\n",
      "Archivo: iaab_Presupuestos_phis_aa.csv\n",
      "Columnas que coinciden: ['ID_empresa']\n",
      "\n",
      "Archivo: iaab_Presupuestos_pan.csv\n",
      "Columnas que coinciden: ['ID_empresa']\n",
      "\n",
      "Archivo: iar_repitencia_pan_aa.csv\n",
      "Columnas que coinciden: ['ID_Agencia', 'ID_empresa', 'ID_Tipo_Habitacion', 'ID_canal']\n",
      "\n",
      "Archivo: iar_hoteles_market_pan_aa.csv\n",
      "Columnas que coinciden: ['ID_empresa']\n",
      "\n",
      "Archivo: iar_Ocupaciones.csv\n",
      "Columnas que coinciden: ['ID_Programa', 'ID_Paquete', 'ID_Segmento_Comp', 'ID_Agencia', 'ID_empresa', 'ID_Tipo_Habitacion', 'ID_canal']\n",
      "\n",
      "Archivo: iaab_Detalles_Vtas_pan.csv\n",
      "Columnas que coinciden: ['ID_empresa']\n",
      "\n",
      "Archivo: iar_Cancelaciones.csv\n",
      "Columnas que coinciden: ['ID_Programa', 'ID_Paquete', 'ID_Segmento_Comp', 'ID_Agencia', 'ID_empresa', 'ID_Tipo_Habitacion', 'ID_canal', 'ID_Pais_Origen']\n",
      "\n",
      "Archivo: iar_repitencia.csv\n",
      "Columnas que coinciden: ['ID_Agencia', 'ID_empresa', 'ID_Tipo_Habitacion', 'ID_canal']\n",
      "\n",
      "Archivo: iar_ingresos_diarios.csv\n",
      "Columnas que coinciden: ['ID_Agencia', 'ID_empresa', 'ID_Tipo_Habitacion']\n",
      "\n",
      "Archivo: iaab_Detalles_Vtas_mtd.csv\n",
      "Columnas que coinciden: ['ID_empresa']\n",
      "\n",
      "Archivo: iar_Est_Ingresos_Diarios_pdia_aa.csv\n",
      "Columnas que coinciden: ['ID_empresa']\n",
      "\n",
      "Archivo: iar_hotvta2_pan.csv\n",
      "Columnas que coinciden: ['ID_Programa', 'ID_Paquete', 'ID_Segmento_Comp', 'ID_Agencia', 'ID_empresa', 'ID_Tipo_Habitacion', 'ID_canal']\n",
      "\n",
      "Archivo: iar_Ocupaciones_mtd.csv\n",
      "Columnas que coinciden: ['ID_empresa']\n",
      "\n",
      "Archivo: iar_presupuestos_ingresos_pan_aa.csv\n",
      "Columnas que coinciden: ['ID_Segmento_Comp', 'ID_Tipo_Habitacion', 'ID_canal']\n",
      "\n",
      "Archivo: iar_ingresosxhabitaciones_pdia.csv\n",
      "Columnas que coinciden: ['ID_empresa']\n",
      "\n",
      "Archivo: iar_hoteles_market_pan.csv\n",
      "Columnas que coinciden: ['ID_empresa']\n",
      "\n",
      "Archivo: iar_ingresosxhabitaciones.csv\n",
      "Columnas que coinciden: ['ID_empresa']\n",
      "\n",
      "Archivo: iar_Reservaciones_phis_aa.csv\n",
      "Columnas que coinciden: ['ID_Reserva', 'ID_Programa', 'ID_Paquete', 'ID_Segmento_Comp', 'ID_Agencia', 'ID_empresa', 'ID_Tipo_Habitacion', 'ID_canal', 'ID_Pais_Origen', 'ID_estatus_reservaciones']\n",
      "\n",
      "Archivo: iar_hottra1_pdia.csv\n",
      "Columnas que coinciden: ['ID_empresa']\n",
      "\n",
      "Archivo: iar_ocupaciones_2019.csv\n",
      "Columnas que coinciden: ['ID_Programa', 'ID_Paquete', 'ID_Segmento_Comp', 'ID_Agencia', 'ID_empresa', 'ID_Tipo_Habitacion', 'ID_canal']\n",
      "\n",
      "Archivo: iar_presupuestos_ingresos_phis_aa.csv\n",
      "Columnas que coinciden: ['ID_Segmento_Comp', 'ID_Tipo_Habitacion', 'ID_canal']\n",
      "\n",
      "Archivo: iar_hoteles_market.csv\n",
      "Columnas que coinciden: ['ID_empresa']\n",
      "\n",
      "Archivo: iar_empresas2.csv\n",
      "Columnas que coinciden: ['ID_empresa']\n",
      "\n",
      "Archivo: iar_Ocupaciones1.csv\n",
      "Columnas que coinciden: ['ID_Programa', 'ID_Paquete', 'ID_Segmento_Comp', 'ID_Agencia', 'ID_empresa', 'ID_Tipo_Habitacion', 'ID_canal']\n",
      "\n",
      "Archivo: iar_Reservas.csv\n",
      "Columnas que coinciden: ['ID_Reserva']\n",
      "\n",
      "Archivo: iar_presupuestos_ingresos_ppto.csv\n",
      "Columnas que coinciden: ['ID_Segmento_Comp', 'ID_Tipo_Habitacion', 'ID_canal']\n",
      "\n",
      "Archivo: iar_Ocupaciones_ppto.csv\n",
      "Columnas que coinciden: ['ID_Programa', 'ID_Paquete', 'ID_Segmento_Comp', 'ID_Agencia', 'ID_empresa', 'ID_Tipo_Habitacion', 'ID_canal']\n",
      "\n",
      "Archivo: iar_estatus_reservaciones.csv\n",
      "Columnas que coinciden: ['ID_estatus_reservaciones']\n",
      "\n",
      "Archivo: iar_Ocupaciones2.csv\n",
      "Columnas que coinciden: ['ID_Programa', 'ID_Paquete', 'ID_Segmento_Comp', 'ID_Agencia', 'ID_empresa', 'ID_Tipo_Habitacion', 'ID_canal']\n",
      "\n",
      "Archivo: iar_ingresosxhabitaciones_pdia_aa.csv\n",
      "Columnas que coinciden: ['ID_empresa']\n",
      "\n",
      "Archivo: iar_Ocupaciones_phis.csv\n",
      "Columnas que coinciden: ['ID_Programa', 'ID_Paquete', 'ID_Segmento_Comp', 'ID_Agencia', 'ID_empresa', 'ID_Tipo_Habitacion', 'ID_canal']\n",
      "\n",
      "Archivo: iar_hottra1_pan.csv\n",
      "Columnas que coinciden: ['ID_empresa']\n",
      "\n",
      "Archivo: iar_hoteles_market_phis_aa.csv\n",
      "Columnas que coinciden: ['ID_empresa']\n",
      "\n",
      "Archivo: iar_Ocupaciones3.csv\n",
      "Columnas que coinciden: ['ID_Programa', 'ID_Paquete', 'ID_Segmento_Comp', 'ID_Agencia', 'ID_empresa', 'ID_Tipo_Habitacion', 'ID_canal']\n",
      "\n",
      "Archivo: iar_Ocupaciones_2023.csv\n",
      "Columnas que coinciden: ['ID_Programa', 'ID_Paquete', 'ID_Segmento_Comp', 'ID_Agencia', 'ID_empresa', 'ID_Tipo_Habitacion', 'ID_canal']\n",
      "\n",
      "Archivo: iar_presupuestos_ingresos_phis.csv\n",
      "Columnas que coinciden: ['ID_Segmento_Comp', 'ID_Tipo_Habitacion', 'ID_canal']\n",
      "\n",
      "Archivo: iar_Ocupaciones_pan_aa.csv\n",
      "Columnas que coinciden: ['ID_Programa', 'ID_Paquete', 'ID_Segmento_Comp', 'ID_Agencia', 'ID_empresa', 'ID_Tipo_Habitacion', 'ID_canal']\n",
      "\n",
      "Archivo: iar_empresas.csv\n",
      "Columnas que coinciden: ['ID_empresa']\n",
      "\n",
      "Archivo: iar_Transacciones.csv\n",
      "Columnas que coinciden: ['ID_empresa']\n",
      "\n",
      "Archivo: iar_Paises_origen.csv\n",
      "Columnas que coinciden: ['ID_Pais_Origen']\n",
      "\n",
      "Archivo: Ventas.csv\n",
      "Columnas que coinciden: ['ID_empresa']\n",
      "\n",
      "Archivo: iar_repitencia_phis.csv\n",
      "Columnas que coinciden: ['ID_Agencia', 'ID_empresa', 'ID_Tipo_Habitacion', 'ID_canal']\n",
      "\n",
      "Archivo: iar_Segmentos_Comp.csv\n",
      "Columnas que coinciden: ['ID_Segmento_Comp']\n",
      "\n",
      "Archivo: iar_presupuestos_ingresos.csv\n",
      "Columnas que coinciden: ['ID_Segmento_Comp', 'ID_Tipo_Habitacion', 'ID_canal']\n",
      "\n",
      "Archivo: iar_hot_est_pan_aa.csv\n",
      "Columnas que coinciden: ['ID_empresa', 'ID_Tipo_Habitacion']\n",
      "\n",
      "Archivo: iar_hot_est_phis_aa.csv\n",
      "Columnas que coinciden: ['ID_empresa', 'ID_Tipo_Habitacion']\n",
      "\n",
      "Archivo: iaab_Indicadores.csv\n",
      "Columnas que coinciden: ['ID_empresa']\n",
      "\n",
      "Archivo: iar_Cancelaciones_pdia.csv\n",
      "Columnas que coinciden: ['ID_Programa', 'ID_Paquete', 'ID_Segmento_Comp', 'ID_Agencia', 'ID_empresa', 'ID_Tipo_Habitacion', 'ID_canal', 'ID_Pais_Origen']\n",
      "\n",
      "Archivo: iaab_Detalles_Vtas_pan_aa.csv\n",
      "Columnas que coinciden: ['ID_empresa']\n",
      "\n",
      "Archivo: iar_Est_Ingresos_Diarios_pdia.csv\n",
      "Columnas que coinciden: ['ID_empresa']\n",
      "\n",
      "Archivo: iaab_Presupuestos_pan_aa.csv\n",
      "Columnas que coinciden: ['ID_empresa']\n",
      "\n",
      "Archivo: iar_Indicadores.csv\n",
      "Columnas que coinciden: ['ID_empresa']\n",
      "\n",
      "Archivo: iaab_Presupuestos_phis.csv\n",
      "Columnas que coinciden: ['ID_empresa']\n",
      "\n",
      "Archivo: iar_hotvta2_ppto.csv\n",
      "Columnas que coinciden: ['ID_Programa', 'ID_Paquete', 'ID_Segmento_Comp', 'ID_Agencia', 'ID_empresa', 'ID_Tipo_Habitacion', 'ID_canal']\n",
      "\n",
      "Archivo: iar_Reservaciones.csv\n",
      "Columnas que coinciden: ['ID_Reserva', 'ID_Programa', 'ID_Paquete', 'ID_Segmento_Comp', 'ID_Agencia', 'ID_empresa', 'ID_Tipo_Habitacion', 'ID_canal', 'ID_Pais_Origen', 'ID_estatus_reservaciones']\n",
      "\n",
      "Archivo: iar_hot_est_pan.csv\n",
      "Columnas que coinciden: ['ID_empresa', 'ID_Tipo_Habitacion']\n",
      "\n",
      "Archivo: iar_hoteles_market_phis.csv\n",
      "Columnas que coinciden: ['ID_empresa']\n",
      "\n",
      "Archivo: iar_hot_est_pdia.csv\n",
      "Columnas que coinciden: ['ID_empresa', 'ID_Tipo_Habitacion']\n",
      "\n",
      "Archivo: iaab_Presupuestos_ppto.csv\n",
      "Columnas que coinciden: ['ID_empresa']\n",
      "\n",
      "Archivo: iar_Reservaciones_pdia.csv\n",
      "Columnas que coinciden: ['ID_Reserva', 'ID_Programa', 'ID_Paquete', 'ID_Segmento_Comp', 'ID_Agencia', 'ID_empresa', 'ID_Tipo_Habitacion', 'ID_canal', 'ID_Pais_Origen', 'ID_estatus_reservaciones']\n",
      "\n",
      "Archivo: iar_ingreso_diario_pdia.csv\n",
      "Columnas que coinciden: ['ID_Agencia', 'ID_empresa', 'ID_Tipo_Habitacion']\n",
      "\n",
      "Archivo: iaab_Detalles_Vtas_pdia.csv\n",
      "Columnas que coinciden: ['ID_empresa']\n",
      "\n",
      "Archivo: iar_Transacciones_pan.csv\n",
      "Columnas que coinciden: ['ID_empresa']\n",
      "\n",
      "Archivo: iar_Transacciones_phis.csv\n",
      "Columnas que coinciden: ['ID_empresa']\n",
      "\n",
      "Archivo: iar_hotvta2_phis.csv\n",
      "Columnas que coinciden: ['ID_Programa', 'ID_Paquete', 'ID_Segmento_Comp', 'ID_Agencia', 'ID_empresa', 'ID_Tipo_Habitacion', 'ID_canal']\n"
     ]
    }
   ],
   "source": [
    "\n",
    "folder_path = \"/Users/fernandalee/Documents/archivos_reto\"\n",
    "\n",
    "id_columns = [col for col in iar_Reservaciones.columns if col.startswith('ID')]\n",
    "\n",
    "archivo_columna_matches = {}\n",
    "\n",
    "for filename in os.listdir(folder_path):\n",
    "    if filename.endswith('.csv'):\n",
    "        file_path = os.path.join(folder_path, filename)\n",
    "        try:\n",
    "            df = pd.read_csv(file_path, nrows=5)  \n",
    "            matches = [col for col in id_columns if col in df.columns]\n",
    "            if matches:\n",
    "                archivo_columna_matches[filename] = matches\n",
    "        except Exception as e:\n",
    "            print(f\"Error leyendo {filename}: {e}\")\n",
    "\n",
    "for archivo, columnas in archivo_columna_matches.items():\n",
    "    print(f\"\\nArchivo: {archivo}\")\n",
    "    print(f\"Columnas que coinciden: {columnas}\")\n"
   ]
  },
  {
   "cell_type": "markdown",
   "id": "4a9db323",
   "metadata": {},
   "source": [
    "## Búsqueda de columna ID_Paquete en otras tablas"
   ]
  },
  {
   "cell_type": "code",
   "execution_count": 4,
   "id": "d4c63650",
   "metadata": {},
   "outputs": [
    {
     "name": "stdout",
     "output_type": "stream",
     "text": [
      "Error leyendo iaab_Cubiertos_pdia.csv: No columns to parse from file\n",
      "Error leyendo iaab_Cabez_Status.csv: No columns to parse from file\n",
      "Error leyendo iaab_Cabez_Status_pan_aa.csv: No columns to parse from file\n",
      "Error leyendo iaab_Cubiertos_pan2.csv: No columns to parse from file\n",
      "Error leyendo iaab_Cubiertos_pan.csv: No columns to parse from file\n",
      "Error leyendo iaab_Cubiertos_pan1.csv: No columns to parse from file\n",
      "Error leyendo iaab_Cajas.csv: No columns to parse from file\n",
      "Error leyendo iaab_clasif_hoteles.csv: No columns to parse from file\n",
      "Error leyendo iaab_Cabez_Status_pdia.csv: No columns to parse from file\n",
      "Error leyendo iaab_Cubiertos_pdia1.csv: No columns to parse from file\n",
      "Error leyendo iaab_Cubiertos_pdia2.csv: No columns to parse from file\n",
      "Error leyendo iaab_Cabez_Status_phis.csv: No columns to parse from file\n",
      "Error leyendo iaab_Cabez_Status_pan.csv: No columns to parse from file\n",
      "Error leyendo iaab_Cabez_Status_phis_aa.csv: No columns to parse from file\n",
      "Error leyendo iaab_Cubiertos_pan_aa.csv: No columns to parse from file\n",
      "Error leyendo iaab_Cubiertos.csv: No columns to parse from file\n",
      "Error leyendo iaab_Cubiertos_phis.csv: No columns to parse from file\n",
      "Error leyendo iaab_Cubiertos_phis1.csv: No columns to parse from file\n",
      "Error leyendo iaab_BoDwhEmpresas.csv: No columns to parse from file\n",
      "Error leyendo iaab_Cubiertos_phis2.csv: No columns to parse from file\n",
      "La columna 'ID_Paquete' se encuentra en los siguientes archivos:\n",
      "- iar_Ocupaciones_phis_aa.csv\n",
      "- iar_Cancelaciones_phis.csv\n",
      "- iar_Cancelaciones_phis_aa.csv\n",
      "- iar_Reservaciones_pan_aa.csv\n",
      "- iar_hotvta2_pdia.csv\n",
      "- iar_Reservaciones_phis.csv\n",
      "- iar_Reservaciones_pan.csv\n",
      "- iar_Cancelaciones_pan.csv\n",
      "- iar_Cancelaciones_pan_aa.csv\n",
      "- iar_ocupaciones_bkp.csv\n",
      "- iar_Ocupaciones_pan.csv\n",
      "- iar_Ocupaciones_pdia.csv\n",
      "- iar_Ocupaciones.csv\n",
      "- iar_Cancelaciones.csv\n",
      "- iar_hotvta2_pan.csv\n",
      "- iar_Reservaciones_phis_aa.csv\n",
      "- iar_ocupaciones_2019.csv\n",
      "- iar_Ocupaciones1.csv\n",
      "- iar_Ocupaciones_ppto.csv\n",
      "- iar_Ocupaciones2.csv\n",
      "- iar_Ocupaciones_phis.csv\n",
      "- iar_Ocupaciones3.csv\n",
      "- iar_Ocupaciones_2023.csv\n",
      "- iar_Ocupaciones_pan_aa.csv\n",
      "- iar_Cancelaciones_pdia.csv\n",
      "- iar_hotvta2_ppto.csv\n",
      "- iar_Reservaciones.csv\n",
      "- iar_Reservaciones_pdia.csv\n",
      "- iar_hotvta2_phis.csv\n"
     ]
    }
   ],
   "source": [
    "columna_buscada = 'ID_Paquete'\n",
    "archivos_con_id_paquete = []\n",
    "\n",
    "for filename in os.listdir(folder_path):\n",
    "    if filename.endswith('.csv'):\n",
    "        file_path = os.path.join(folder_path, filename)\n",
    "        try:\n",
    "            df = pd.read_csv(file_path, nrows=5)  \n",
    "            if columna_buscada in df.columns:\n",
    "                archivos_con_id_paquete.append(filename)\n",
    "        except Exception as e:\n",
    "            print(f\"Error leyendo {filename}: {e}\")\n",
    "if archivos_con_id_paquete:\n",
    "    print(f\"La columna '{columna_buscada}' se encuentra en los siguientes archivos:\")\n",
    "    for archivo in archivos_con_id_paquete:\n",
    "        print(f\"- {archivo}\")\n",
    "else:\n",
    "    print(f\"No se encontró la columna '{columna_buscada}' en los archivos CSV.\")"
   ]
  },
  {
   "cell_type": "markdown",
   "id": "40c2a185",
   "metadata": {},
   "source": [
    "Mediante las siguientes búsquedas, se nos permitió poder encontrar la ubicación de columnas de nuestro interés, para después unirlas en un sólo dataset.  "
   ]
  },
  {
   "cell_type": "markdown",
   "id": "c1403078",
   "metadata": {},
   "source": [
    "## Integración de tablas para Reservaciones"
   ]
  },
  {
   "cell_type": "markdown",
   "id": "68759b58",
   "metadata": {},
   "source": [
    "### Agencias"
   ]
  },
  {
   "cell_type": "code",
   "execution_count": 5,
   "id": "8c7688b0",
   "metadata": {},
   "outputs": [],
   "source": [
    "iar_Agencias = pd.read_csv(\"/Users/fernandalee/Documents/archivos_reto/iar_Agencias.csv\")\n",
    "iar_Agencias.columns\n",
    "iar_Reservaciones = iar_Reservaciones.merge(\n",
    "    iar_Agencias[['ID_Agencia', 'Hotel_cve', 'Agencia_nombre', 'Estado_cve']],\n",
    "    on='ID_Agencia',\n",
    "    how='left'\n",
    ")\n"
   ]
  },
  {
   "cell_type": "markdown",
   "id": "aef8bd3d",
   "metadata": {},
   "source": [
    "### Tipos de Habitación"
   ]
  },
  {
   "cell_type": "code",
   "execution_count": 6,
   "id": "c6a1d32e",
   "metadata": {},
   "outputs": [],
   "source": [
    "iar_Tipos_Habitaciones = pd.read_csv(\"/Users/fernandalee/Documents/archivos_reto/iar_Tipos_Habitaciones.csv\")\n",
    "iar_Tipos_Habitaciones.columns\n",
    "iar_Reservaciones = iar_Reservaciones.merge(\n",
    "    iar_Tipos_Habitaciones[['ID_Tipo_Habitacion', 'Tipo_Habitacion_nombre', 'Clasificacion']],\n",
    "    on='ID_Tipo_Habitacion',\n",
    "    how='left'\n",
    ")"
   ]
  },
  {
   "cell_type": "markdown",
   "id": "6e656bd3",
   "metadata": {},
   "source": [
    "### Empresas"
   ]
  },
  {
   "cell_type": "code",
   "execution_count": 7,
   "id": "0d78908d",
   "metadata": {},
   "outputs": [],
   "source": [
    "iar_empresas = pd.read_csv(\"/Users/fernandalee/Documents/archivos_reto/iar_empresas.csv\")\n",
    "iar_empresas.columns\n",
    "iar_Reservaciones = iar_Reservaciones.merge(\n",
    "    iar_empresas[['ID_empresa', 'Empresa_nombre', 'Franquicia']],\n",
    "    on='ID_empresa',\n",
    "    how='left'\n",
    ")"
   ]
  },
  {
   "cell_type": "markdown",
   "id": "94b6d3b9",
   "metadata": {},
   "source": [
    "### Paquetes"
   ]
  },
  {
   "cell_type": "code",
   "execution_count": 8,
   "id": "4d459dc2",
   "metadata": {},
   "outputs": [],
   "source": [
    "iar_paquetes = pd.read_csv(\"/Users/fernandalee/Documents/archivos_reto/iar_paquetes.csv\")\n",
    "iar_paquetes.columns\n",
    "iar_Reservaciones = iar_Reservaciones.merge(\n",
    "    iar_paquetes[['ID_paquete', 'Paquete_nombre']],\n",
    "    left_on='ID_Paquete',\n",
    "    right_on='ID_paquete',\n",
    "    how='left'\n",
    ")\n",
    "iar_Reservaciones.drop(columns=['ID_paquete'], inplace=True)\n",
    "\n"
   ]
  },
  {
   "cell_type": "code",
   "execution_count": 9,
   "id": "0b943714",
   "metadata": {},
   "outputs": [
    {
     "data": {
      "application/vnd.microsoft.datawrangler.viewer.v0+json": {
       "columns": [
        {
         "name": "index",
         "rawType": "int64",
         "type": "integer"
        },
        {
         "name": "ID_Reserva",
         "rawType": "int64",
         "type": "integer"
        },
        {
         "name": "Fecha_hoy",
         "rawType": "object",
         "type": "unknown"
        },
        {
         "name": "h_res_fec",
         "rawType": "int64",
         "type": "integer"
        },
        {
         "name": "h_res_fec_ok",
         "rawType": "object",
         "type": "string"
        },
        {
         "name": "h_res_fec_okt",
         "rawType": "object",
         "type": "string"
        },
        {
         "name": "h_num_per",
         "rawType": "int64",
         "type": "integer"
        },
        {
         "name": "h_num_adu",
         "rawType": "int64",
         "type": "integer"
        },
        {
         "name": "h_num_men",
         "rawType": "int64",
         "type": "integer"
        },
        {
         "name": "h_num_noc",
         "rawType": "int64",
         "type": "integer"
        },
        {
         "name": "h_tot_hab",
         "rawType": "int64",
         "type": "integer"
        },
        {
         "name": "ID_Programa",
         "rawType": "int64",
         "type": "integer"
        },
        {
         "name": "ID_Paquete",
         "rawType": "int64",
         "type": "integer"
        },
        {
         "name": "ID_Segmento_Comp",
         "rawType": "int64",
         "type": "integer"
        },
        {
         "name": "ID_Agencia",
         "rawType": "int64",
         "type": "integer"
        },
        {
         "name": "ID_empresa",
         "rawType": "int64",
         "type": "integer"
        },
        {
         "name": "ID_Tipo_Habitacion",
         "rawType": "int64",
         "type": "integer"
        },
        {
         "name": "ID_canal",
         "rawType": "int64",
         "type": "integer"
        },
        {
         "name": "h_fec_lld",
         "rawType": "object",
         "type": "unknown"
        },
        {
         "name": "h_fec_lld_ok",
         "rawType": "object",
         "type": "string"
        },
        {
         "name": "h_fec_lld_okt",
         "rawType": "object",
         "type": "string"
        },
        {
         "name": "h_fec_reg",
         "rawType": "object",
         "type": "string"
        },
        {
         "name": "h_fec_reg_ok",
         "rawType": "object",
         "type": "string"
        },
        {
         "name": "h_fec_reg_okt",
         "rawType": "object",
         "type": "string"
        },
        {
         "name": "h_fec_sda",
         "rawType": "object",
         "type": "unknown"
        },
        {
         "name": "h_fec_sda_ok",
         "rawType": "object",
         "type": "string"
        },
        {
         "name": "h_fec_sda_okt",
         "rawType": "object",
         "type": "string"
        },
        {
         "name": "ID_Pais_Origen",
         "rawType": "int64",
         "type": "integer"
        },
        {
         "name": "Cliente_Disp",
         "rawType": "int64",
         "type": "integer"
        },
        {
         "name": "Reservacion",
         "rawType": "int64",
         "type": "integer"
        },
        {
         "name": "ID_estatus_reservaciones",
         "rawType": "int64",
         "type": "integer"
        },
        {
         "name": "h_can_res",
         "rawType": "object",
         "type": "string"
        },
        {
         "name": "h_cod_reserva",
         "rawType": "object",
         "type": "string"
        },
        {
         "name": "h_edo",
         "rawType": "object",
         "type": "string"
        },
        {
         "name": "h_codigop",
         "rawType": "object",
         "type": "string"
        },
        {
         "name": "h_correo_e",
         "rawType": "float64",
         "type": "float"
        },
        {
         "name": "h_nom",
         "rawType": "float64",
         "type": "float"
        },
        {
         "name": "h_tfa_total",
         "rawType": "float64",
         "type": "float"
        },
        {
         "name": "moneda_cve",
         "rawType": "int64",
         "type": "integer"
        },
        {
         "name": "h_ult_cam_fec",
         "rawType": "object",
         "type": "string"
        },
        {
         "name": "h_ult_cam_fec_ok",
         "rawType": "object",
         "type": "string"
        },
        {
         "name": "h_ult_cam_fec_okt",
         "rawType": "object",
         "type": "string"
        },
        {
         "name": "Hotel_cve",
         "rawType": "object",
         "type": "string"
        },
        {
         "name": "Agencia_nombre",
         "rawType": "object",
         "type": "string"
        },
        {
         "name": "Estado_cve",
         "rawType": "object",
         "type": "string"
        },
        {
         "name": "Tipo_Habitacion_nombre",
         "rawType": "object",
         "type": "string"
        },
        {
         "name": "Clasificacion",
         "rawType": "object",
         "type": "string"
        },
        {
         "name": "Empresa_nombre",
         "rawType": "object",
         "type": "string"
        },
        {
         "name": "Franquicia",
         "rawType": "object",
         "type": "string"
        },
        {
         "name": "Paquete_nombre",
         "rawType": "object",
         "type": "string"
        }
       ],
       "conversionMethod": "pd.DataFrame",
       "ref": "35c0f082-e80d-481a-8512-4af77b4a7bdb",
       "rows": [
        [
         "0",
         "0",
         "2019-08-16",
         "20190816",
         "2019-08-16 ",
         "2019-08-16 00:00:00.000",
         "2",
         "2",
         "0",
         "3",
         "1",
         "1",
         "1",
         "14",
         "112",
         "1",
         "25",
         "10",
         "20191107",
         "2019-11-07 ",
         "2019-11-07 00:00:00.000",
         "20190816",
         "2019-08-16 ",
         "2019-08-16 00:00:00.000",
         "20191110",
         "2019-11-10 ",
         "2019-11-10 00:00:00.000",
         "157",
         "2",
         "1",
         "9",
         "09",
         "                ",
         "EMX   ",
         "01500               ",
         null,
         null,
         "132.999",
         "1",
         "20191110",
         "2019-11-10 ",
         "2019-11-10 00:00:00.000",
         "AZU",
         "HOTELES S.A.",
         "EMX   ",
         "ESTD 2Q        SN12MST        ",
         "MST",
         "HOTEL 1",
         "OPERADO",
         "WALK IN                                           "
        ],
        [
         "1",
         "1",
         "2019-10-22",
         "20191022",
         "2019-10-22 ",
         "2019-10-22 00:00:00.000",
         "4",
         "4",
         "0",
         "4",
         "1",
         "1",
         "2",
         "14",
         "112",
         "1",
         "25",
         "10",
         "20191201",
         "2019-12-01 ",
         "2019-12-01 00:00:00.000",
         "20191022",
         "2019-10-22 ",
         "2019-10-22 00:00:00.000",
         "20191205",
         "2019-12-05 ",
         "2019-12-05 00:00:00.000",
         "157",
         "4",
         "1",
         "9",
         "09",
         "                ",
         "EGT   ",
         "023541              ",
         null,
         null,
         "88.2",
         "1",
         "20191205",
         "2019-12-05 ",
         "2019-12-05 00:00:00.000",
         "AZU",
         "HOTELES S.A.",
         "EMX   ",
         "ESTD 2Q        SN12MST        ",
         "MST",
         "HOTEL 1",
         "OPERADO",
         "NINGUNO                                           "
        ],
        [
         "2",
         "2",
         "2019-10-28",
         "20191028",
         "2019-10-28 ",
         "2019-10-28 00:00:00.000",
         "2",
         "2",
         "0",
         "4",
         "1",
         "1",
         "1",
         "14",
         "112",
         "1",
         "23",
         "10",
         "20191201",
         "2019-12-01 ",
         "2019-12-01 00:00:00.000",
         "20191028",
         "2019-10-28 ",
         "2019-10-28 00:00:00.000",
         "20191205",
         "2019-12-05 ",
         "2019-12-05 00:00:00.000",
         "157",
         "2",
         "1",
         "9",
         "09",
         "                ",
         "EMC   ",
         "59800               ",
         null,
         null,
         "133.002",
         "1",
         "20191205",
         "2019-12-05 ",
         "2019-12-05 00:00:00.000",
         "AZU",
         "HOTELES S.A.",
         "EMX   ",
         "JR SUITE 1K    SN12MJS        ",
         "MJS",
         "HOTEL 1",
         "OPERADO",
         "WALK IN                                           "
        ],
        [
         "3",
         "3",
         "2019-10-28",
         "20191028",
         "2019-10-28 ",
         "2019-10-28 00:00:00.000",
         "4",
         "3",
         "0",
         "3",
         "1",
         "1",
         "2",
         "14",
         "112",
         "1",
         "24",
         "10",
         "20191208",
         "2019-12-08 ",
         "2019-12-08 00:00:00.000",
         "20191028",
         "2019-10-28 ",
         "2019-10-28 00:00:00.000",
         "20191211",
         "2019-12-11 ",
         "2019-12-11 00:00:00.000",
         "157",
         "3",
         "1",
         "9",
         "09",
         "                ",
         "EGT   ",
         "37219               ",
         null,
         null,
         "99.7515",
         "1",
         "20191211",
         "2019-12-11 ",
         "2019-12-11 00:00:00.000",
         "AZU",
         "HOTELES S.A.",
         "EMX   ",
         "JR SUITE 2Q    SN12MJS        ",
         "MJS",
         "HOTEL 1",
         "OPERADO",
         "NINGUNO                                           "
        ],
        [
         "4",
         "4",
         "2019-10-28",
         "20191028",
         "2019-10-28 ",
         "2019-10-28 00:00:00.000",
         "2",
         "2",
         "0",
         "4",
         "1",
         "1",
         "1",
         "5",
         "14",
         "1",
         "4",
         "13",
         "20191208",
         "2019-12-08 ",
         "2019-12-08 00:00:00.000",
         "20191208",
         "2019-12-08 ",
         "2019-12-08 00:00:00.000",
         "20191212",
         "2019-12-12 ",
         "2019-12-12 00:00:00.000",
         "157",
         "2",
         "1",
         "9",
         "12",
         "74101652-3_2394 ",
         "EMX   ",
         "15300               ",
         null,
         null,
         "668.496",
         "1",
         "20191212",
         "2019-12-12 ",
         "2019-12-12 00:00:00.000",
         "AZU",
         "BESTDAY TRAVEL GROUP                                                                                ",
         "EQR   ",
         "LUXURY 2Q      SN12GSU        ",
         "GSU",
         "HOTEL 1",
         "OPERADO",
         "WALK IN                                           "
        ]
       ],
       "shape": {
        "columns": 49,
        "rows": 5
       }
      },
      "text/html": [
       "<div>\n",
       "<style scoped>\n",
       "    .dataframe tbody tr th:only-of-type {\n",
       "        vertical-align: middle;\n",
       "    }\n",
       "\n",
       "    .dataframe tbody tr th {\n",
       "        vertical-align: top;\n",
       "    }\n",
       "\n",
       "    .dataframe thead th {\n",
       "        text-align: right;\n",
       "    }\n",
       "</style>\n",
       "<table border=\"1\" class=\"dataframe\">\n",
       "  <thead>\n",
       "    <tr style=\"text-align: right;\">\n",
       "      <th></th>\n",
       "      <th>ID_Reserva</th>\n",
       "      <th>Fecha_hoy</th>\n",
       "      <th>h_res_fec</th>\n",
       "      <th>h_res_fec_ok</th>\n",
       "      <th>h_res_fec_okt</th>\n",
       "      <th>h_num_per</th>\n",
       "      <th>h_num_adu</th>\n",
       "      <th>h_num_men</th>\n",
       "      <th>h_num_noc</th>\n",
       "      <th>h_tot_hab</th>\n",
       "      <th>...</th>\n",
       "      <th>h_ult_cam_fec_ok</th>\n",
       "      <th>h_ult_cam_fec_okt</th>\n",
       "      <th>Hotel_cve</th>\n",
       "      <th>Agencia_nombre</th>\n",
       "      <th>Estado_cve</th>\n",
       "      <th>Tipo_Habitacion_nombre</th>\n",
       "      <th>Clasificacion</th>\n",
       "      <th>Empresa_nombre</th>\n",
       "      <th>Franquicia</th>\n",
       "      <th>Paquete_nombre</th>\n",
       "    </tr>\n",
       "  </thead>\n",
       "  <tbody>\n",
       "    <tr>\n",
       "      <th>0</th>\n",
       "      <td>0</td>\n",
       "      <td>2019-08-16</td>\n",
       "      <td>20190816</td>\n",
       "      <td>2019-08-16</td>\n",
       "      <td>2019-08-16 00:00:00.000</td>\n",
       "      <td>2</td>\n",
       "      <td>2</td>\n",
       "      <td>0</td>\n",
       "      <td>3</td>\n",
       "      <td>1</td>\n",
       "      <td>...</td>\n",
       "      <td>2019-11-10</td>\n",
       "      <td>2019-11-10 00:00:00.000</td>\n",
       "      <td>AZU</td>\n",
       "      <td>HOTELES S.A.</td>\n",
       "      <td>EMX</td>\n",
       "      <td>ESTD 2Q        SN12MST</td>\n",
       "      <td>MST</td>\n",
       "      <td>HOTEL 1</td>\n",
       "      <td>OPERADO</td>\n",
       "      <td>WALK IN                                       ...</td>\n",
       "    </tr>\n",
       "    <tr>\n",
       "      <th>1</th>\n",
       "      <td>1</td>\n",
       "      <td>2019-10-22</td>\n",
       "      <td>20191022</td>\n",
       "      <td>2019-10-22</td>\n",
       "      <td>2019-10-22 00:00:00.000</td>\n",
       "      <td>4</td>\n",
       "      <td>4</td>\n",
       "      <td>0</td>\n",
       "      <td>4</td>\n",
       "      <td>1</td>\n",
       "      <td>...</td>\n",
       "      <td>2019-12-05</td>\n",
       "      <td>2019-12-05 00:00:00.000</td>\n",
       "      <td>AZU</td>\n",
       "      <td>HOTELES S.A.</td>\n",
       "      <td>EMX</td>\n",
       "      <td>ESTD 2Q        SN12MST</td>\n",
       "      <td>MST</td>\n",
       "      <td>HOTEL 1</td>\n",
       "      <td>OPERADO</td>\n",
       "      <td>NINGUNO                                       ...</td>\n",
       "    </tr>\n",
       "    <tr>\n",
       "      <th>2</th>\n",
       "      <td>2</td>\n",
       "      <td>2019-10-28</td>\n",
       "      <td>20191028</td>\n",
       "      <td>2019-10-28</td>\n",
       "      <td>2019-10-28 00:00:00.000</td>\n",
       "      <td>2</td>\n",
       "      <td>2</td>\n",
       "      <td>0</td>\n",
       "      <td>4</td>\n",
       "      <td>1</td>\n",
       "      <td>...</td>\n",
       "      <td>2019-12-05</td>\n",
       "      <td>2019-12-05 00:00:00.000</td>\n",
       "      <td>AZU</td>\n",
       "      <td>HOTELES S.A.</td>\n",
       "      <td>EMX</td>\n",
       "      <td>JR SUITE 1K    SN12MJS</td>\n",
       "      <td>MJS</td>\n",
       "      <td>HOTEL 1</td>\n",
       "      <td>OPERADO</td>\n",
       "      <td>WALK IN                                       ...</td>\n",
       "    </tr>\n",
       "    <tr>\n",
       "      <th>3</th>\n",
       "      <td>3</td>\n",
       "      <td>2019-10-28</td>\n",
       "      <td>20191028</td>\n",
       "      <td>2019-10-28</td>\n",
       "      <td>2019-10-28 00:00:00.000</td>\n",
       "      <td>4</td>\n",
       "      <td>3</td>\n",
       "      <td>0</td>\n",
       "      <td>3</td>\n",
       "      <td>1</td>\n",
       "      <td>...</td>\n",
       "      <td>2019-12-11</td>\n",
       "      <td>2019-12-11 00:00:00.000</td>\n",
       "      <td>AZU</td>\n",
       "      <td>HOTELES S.A.</td>\n",
       "      <td>EMX</td>\n",
       "      <td>JR SUITE 2Q    SN12MJS</td>\n",
       "      <td>MJS</td>\n",
       "      <td>HOTEL 1</td>\n",
       "      <td>OPERADO</td>\n",
       "      <td>NINGUNO                                       ...</td>\n",
       "    </tr>\n",
       "    <tr>\n",
       "      <th>4</th>\n",
       "      <td>4</td>\n",
       "      <td>2019-10-28</td>\n",
       "      <td>20191028</td>\n",
       "      <td>2019-10-28</td>\n",
       "      <td>2019-10-28 00:00:00.000</td>\n",
       "      <td>2</td>\n",
       "      <td>2</td>\n",
       "      <td>0</td>\n",
       "      <td>4</td>\n",
       "      <td>1</td>\n",
       "      <td>...</td>\n",
       "      <td>2019-12-12</td>\n",
       "      <td>2019-12-12 00:00:00.000</td>\n",
       "      <td>AZU</td>\n",
       "      <td>BESTDAY TRAVEL GROUP                          ...</td>\n",
       "      <td>EQR</td>\n",
       "      <td>LUXURY 2Q      SN12GSU</td>\n",
       "      <td>GSU</td>\n",
       "      <td>HOTEL 1</td>\n",
       "      <td>OPERADO</td>\n",
       "      <td>WALK IN                                       ...</td>\n",
       "    </tr>\n",
       "  </tbody>\n",
       "</table>\n",
       "<p>5 rows × 49 columns</p>\n",
       "</div>"
      ],
      "text/plain": [
       "   ID_Reserva   Fecha_hoy  h_res_fec h_res_fec_ok            h_res_fec_okt  \\\n",
       "0           0  2019-08-16   20190816  2019-08-16   2019-08-16 00:00:00.000   \n",
       "1           1  2019-10-22   20191022  2019-10-22   2019-10-22 00:00:00.000   \n",
       "2           2  2019-10-28   20191028  2019-10-28   2019-10-28 00:00:00.000   \n",
       "3           3  2019-10-28   20191028  2019-10-28   2019-10-28 00:00:00.000   \n",
       "4           4  2019-10-28   20191028  2019-10-28   2019-10-28 00:00:00.000   \n",
       "\n",
       "   h_num_per  h_num_adu  h_num_men  h_num_noc  h_tot_hab  ...  \\\n",
       "0          2          2          0          3          1  ...   \n",
       "1          4          4          0          4          1  ...   \n",
       "2          2          2          0          4          1  ...   \n",
       "3          4          3          0          3          1  ...   \n",
       "4          2          2          0          4          1  ...   \n",
       "\n",
       "   h_ult_cam_fec_ok        h_ult_cam_fec_okt  Hotel_cve  \\\n",
       "0       2019-11-10   2019-11-10 00:00:00.000        AZU   \n",
       "1       2019-12-05   2019-12-05 00:00:00.000        AZU   \n",
       "2       2019-12-05   2019-12-05 00:00:00.000        AZU   \n",
       "3       2019-12-11   2019-12-11 00:00:00.000        AZU   \n",
       "4       2019-12-12   2019-12-12 00:00:00.000        AZU   \n",
       "\n",
       "                                      Agencia_nombre  Estado_cve  \\\n",
       "0                                       HOTELES S.A.      EMX      \n",
       "1                                       HOTELES S.A.      EMX      \n",
       "2                                       HOTELES S.A.      EMX      \n",
       "3                                       HOTELES S.A.      EMX      \n",
       "4  BESTDAY TRAVEL GROUP                          ...      EQR      \n",
       "\n",
       "           Tipo_Habitacion_nombre  Clasificacion Empresa_nombre Franquicia  \\\n",
       "0  ESTD 2Q        SN12MST                    MST        HOTEL 1    OPERADO   \n",
       "1  ESTD 2Q        SN12MST                    MST        HOTEL 1    OPERADO   \n",
       "2  JR SUITE 1K    SN12MJS                    MJS        HOTEL 1    OPERADO   \n",
       "3  JR SUITE 2Q    SN12MJS                    MJS        HOTEL 1    OPERADO   \n",
       "4  LUXURY 2Q      SN12GSU                    GSU        HOTEL 1    OPERADO   \n",
       "\n",
       "                                      Paquete_nombre  \n",
       "0  WALK IN                                       ...  \n",
       "1  NINGUNO                                       ...  \n",
       "2  WALK IN                                       ...  \n",
       "3  NINGUNO                                       ...  \n",
       "4  WALK IN                                       ...  \n",
       "\n",
       "[5 rows x 49 columns]"
      ]
     },
     "execution_count": 9,
     "metadata": {},
     "output_type": "execute_result"
    }
   ],
   "source": [
    "iar_Reservaciones.head()"
   ]
  },
  {
   "cell_type": "markdown",
   "id": "26cc3dfb",
   "metadata": {},
   "source": [
    "### Eliminación de las columnas que no dan relevancia"
   ]
  },
  {
   "cell_type": "code",
   "execution_count": 10,
   "id": "b2f730f6",
   "metadata": {},
   "outputs": [],
   "source": [
    "Reservaciones = iar_Reservaciones.drop(columns=['h_res_fec', 'h_res_fec_ok', 'h_res_fec_okt', 'ID_Programa','ID_Paquete','ID_Segmento_Comp','ID_canal','h_fec_lld','h_fec_lld_ok','h_fec_lld_okt','h_fec_reg','h_fec_reg_ok','h_fec_reg_okt','h_fec_sda','Reservacion','h_fec_sda_ok','h_fec_sda_okt','Cliente_Disp','ID_empresa','ID_estatus_reservaciones','ID_Agencia','h_can_res','h_cod_reserva','h_codigop','h_correo_e','h_nom','h_ult_cam_fec','h_ult_cam_fec_ok','h_ult_cam_fec_okt'])"
   ]
  },
  {
   "cell_type": "markdown",
   "id": "4ddbf117",
   "metadata": {},
   "source": [
    "## Integración de Tablas para Ventas"
   ]
  },
  {
   "cell_type": "code",
   "execution_count": 11,
   "id": "8febde1f",
   "metadata": {},
   "outputs": [
    {
     "data": {
      "application/vnd.microsoft.datawrangler.viewer.v0+json": {
       "columns": [
        {
         "name": "index",
         "rawType": "int64",
         "type": "integer"
        },
        {
         "name": "ID_Detalle_vta",
         "rawType": "int64",
         "type": "integer"
        },
        {
         "name": "fecha_hoy",
         "rawType": "object",
         "type": "string"
        },
        {
         "name": "caja_cve",
         "rawType": "int64",
         "type": "integer"
        },
        {
         "name": "turno_cve",
         "rawType": "int64",
         "type": "integer"
        },
        {
         "name": "ID_status",
         "rawType": "int64",
         "type": "integer"
        },
        {
         "name": "fec_com",
         "rawType": "int64",
         "type": "integer"
        },
        {
         "name": "hora_alta",
         "rawType": "int64",
         "type": "integer"
        },
        {
         "name": "folio",
         "rawType": "int64",
         "type": "integer"
        },
        {
         "name": "mesero",
         "rawType": "object",
         "type": "string"
        },
        {
         "name": "id_operador",
         "rawType": "int64",
         "type": "integer"
        },
        {
         "name": "platillo_cve",
         "rawType": "object",
         "type": "string"
        },
        {
         "name": "cantidad",
         "rawType": "float64",
         "type": "float"
        },
        {
         "name": "aa_cantidad",
         "rawType": "int64",
         "type": "integer"
        },
        {
         "name": "cantidad_ali",
         "rawType": "float64",
         "type": "float"
        },
        {
         "name": "aa_cantidad_ali",
         "rawType": "int64",
         "type": "integer"
        },
        {
         "name": "cantidad_beb",
         "rawType": "float64",
         "type": "float"
        },
        {
         "name": "aa_cantidad_beb",
         "rawType": "int64",
         "type": "integer"
        },
        {
         "name": "cantidad_che_ali",
         "rawType": "int64",
         "type": "integer"
        },
        {
         "name": "aa_cantidad_che_ali",
         "rawType": "int64",
         "type": "integer"
        },
        {
         "name": "cantidad_che_beb",
         "rawType": "int64",
         "type": "integer"
        },
        {
         "name": "aa_cantidad_che_beb",
         "rawType": "int64",
         "type": "integer"
        },
        {
         "name": "importe",
         "rawType": "float64",
         "type": "float"
        },
        {
         "name": "aa_importe",
         "rawType": "int64",
         "type": "integer"
        },
        {
         "name": "importe_ali",
         "rawType": "float64",
         "type": "float"
        },
        {
         "name": "aa_importe_ali",
         "rawType": "int64",
         "type": "integer"
        },
        {
         "name": "importe_beb",
         "rawType": "float64",
         "type": "float"
        },
        {
         "name": "aa_importe_beb",
         "rawType": "int64",
         "type": "integer"
        },
        {
         "name": "monto_total",
         "rawType": "float64",
         "type": "float"
        },
        {
         "name": "aa_monto_total",
         "rawType": "int64",
         "type": "integer"
        },
        {
         "name": "ID_Map_turno",
         "rawType": "int64",
         "type": "integer"
        },
        {
         "name": "ID_Caja",
         "rawType": "int64",
         "type": "integer"
        },
        {
         "name": "ID_Platillo",
         "rawType": "int64",
         "type": "integer"
        },
        {
         "name": "tipo",
         "rawType": "object",
         "type": "string"
        },
        {
         "name": "ID_Tipo_Mvto",
         "rawType": "int64",
         "type": "integer"
        },
        {
         "name": "id_date",
         "rawType": "int64",
         "type": "integer"
        },
        {
         "name": "HORA_MIN_SEG",
         "rawType": "int64",
         "type": "integer"
        },
        {
         "name": "id_date_sda",
         "rawType": "int64",
         "type": "integer"
        },
        {
         "name": "HORA_MIN_SEG_sda",
         "rawType": "int64",
         "type": "integer"
        },
        {
         "name": "domingo",
         "rawType": "int64",
         "type": "integer"
        },
        {
         "name": "lunes",
         "rawType": "int64",
         "type": "integer"
        },
        {
         "name": "martes",
         "rawType": "int64",
         "type": "integer"
        },
        {
         "name": "miercoles",
         "rawType": "int64",
         "type": "integer"
        },
        {
         "name": "jueves",
         "rawType": "int64",
         "type": "integer"
        },
        {
         "name": "viernes",
         "rawType": "int64",
         "type": "integer"
        },
        {
         "name": "sabado",
         "rawType": "int64",
         "type": "integer"
        },
        {
         "name": "ID_empresa",
         "rawType": "int64",
         "type": "integer"
        },
        {
         "name": "ID_Map_tipo_bebyali",
         "rawType": "int64",
         "type": "integer"
        },
        {
         "name": "impto",
         "rawType": "int64",
         "type": "integer"
        },
        {
         "name": "aa_impto",
         "rawType": "int64",
         "type": "integer"
        },
        {
         "name": "Total_Sin_Impuestos",
         "rawType": "float64",
         "type": "float"
        },
        {
         "name": "aa_total_s_impto",
         "rawType": "int64",
         "type": "integer"
        },
        {
         "name": "moneda_cve",
         "rawType": "int64",
         "type": "integer"
        },
        {
         "name": "ID_tipo_venta",
         "rawType": "int64",
         "type": "integer"
        },
        {
         "name": "ID_map_status",
         "rawType": "int64",
         "type": "integer"
        },
        {
         "name": "ID_tipo_cheque",
         "rawType": "int64",
         "type": "integer"
        }
       ],
       "conversionMethod": "pd.DataFrame",
       "ref": "e60b87bf-5847-4366-a4e7-2946983b7663",
       "rows": [
        [
         "0",
         "223675",
         "2018-09-26 00:00:00.000",
         "1",
         "1",
         "1",
         "20180926",
         "92400",
         "12615",
         "AL0",
         "329",
         "DES026  ",
         "1.0",
         "0",
         "1.0",
         "0",
         "0.0",
         "0",
         "1",
         "0",
         "0",
         "0",
         "5.118534482758621",
         "0",
         "5.118534482758621",
         "0",
         "0.0",
         "0",
         "5.9375",
         "0",
         "1",
         "3",
         "2460",
         "A",
         "1",
         "20180926",
         "92400",
         "20180926",
         "92400",
         "0",
         "0",
         "0",
         "1",
         "0",
         "0",
         "0",
         "3",
         "1",
         "1",
         "0",
         "5.11875",
         "0",
         "2",
         "0",
         "2",
         "1"
        ],
        [
         "1",
         "223676",
         "2018-09-26 00:00:00.000",
         "1",
         "1",
         "1",
         "20180926",
         "92400",
         "12615",
         "AL0",
         "329",
         "POS005  ",
         "2.0",
         "0",
         "2.0",
         "0",
         "0.0",
         "0",
         "1",
         "0",
         "0",
         "0",
         "7.543103448275863",
         "0",
         "7.543103448275863",
         "0",
         "0.0",
         "0",
         "8.75",
         "0",
         "1",
         "3",
         "747",
         "A",
         "1",
         "20180926",
         "92400",
         "20180926",
         "92400",
         "0",
         "0",
         "0",
         "1",
         "0",
         "0",
         "0",
         "3",
         "1",
         "1",
         "0",
         "7.543125",
         "0",
         "2",
         "0",
         "2",
         "1"
        ],
        [
         "2",
         "223677",
         "2018-09-26 00:00:00.000",
         "1",
         "1",
         "1",
         "20180926",
         "102900",
         "12624",
         "AL0",
         "329",
         "DES002  ",
         "3.0",
         "0",
         "3.0",
         "0",
         "0.0",
         "0",
         "1",
         "0",
         "0",
         "0",
         "23.4375",
         "0",
         "23.4375",
         "0",
         "0.0",
         "0",
         "27.1875",
         "0",
         "1",
         "3",
         "710",
         "A",
         "1",
         "20180926",
         "102900",
         "20180926",
         "102900",
         "0",
         "0",
         "0",
         "1",
         "0",
         "0",
         "0",
         "3",
         "1",
         "1",
         "0",
         "23.4375",
         "0",
         "2",
         "0",
         "2",
         "2"
        ],
        [
         "3",
         "223678",
         "2018-09-26 00:00:00.000",
         "1",
         "1",
         "1",
         "20180926",
         "102900",
         "12624",
         "AL0",
         "329",
         "DES027  ",
         "1.0",
         "0",
         "1.0",
         "0",
         "0.0",
         "0",
         "1",
         "0",
         "0",
         "0",
         "5.118534482758621",
         "0",
         "5.118534482758621",
         "0",
         "0.0",
         "0",
         "5.9375",
         "0",
         "1",
         "3",
         "429",
         "A",
         "1",
         "20180926",
         "102900",
         "20180926",
         "102900",
         "0",
         "0",
         "0",
         "1",
         "0",
         "0",
         "0",
         "3",
         "1",
         "1",
         "0",
         "5.11875",
         "0",
         "2",
         "0",
         "2",
         "2"
        ],
        [
         "4",
         "223679",
         "2018-09-26 00:00:00.000",
         "1",
         "1",
         "2",
         "20180926",
         "102900",
         "12624",
         "AL0",
         "329",
         "DSCALI  ",
         "0.0",
         "0",
         "0.0",
         "0",
         "0.0",
         "0",
         "1",
         "0",
         "0",
         "0",
         "-5.711206896551724",
         "0",
         "-5.711206896551724",
         "0",
         "0.0",
         "0",
         "0.0",
         "0",
         "1",
         "3",
         "480",
         "A",
         "1",
         "20180926",
         "102900",
         "20180926",
         "102900",
         "0",
         "0",
         "0",
         "1",
         "0",
         "0",
         "0",
         "3",
         "1",
         "1",
         "0",
         "-5.71125",
         "0",
         "2",
         "0",
         "2",
         "2"
        ]
       ],
       "shape": {
        "columns": 55,
        "rows": 5
       }
      },
      "text/html": [
       "<div>\n",
       "<style scoped>\n",
       "    .dataframe tbody tr th:only-of-type {\n",
       "        vertical-align: middle;\n",
       "    }\n",
       "\n",
       "    .dataframe tbody tr th {\n",
       "        vertical-align: top;\n",
       "    }\n",
       "\n",
       "    .dataframe thead th {\n",
       "        text-align: right;\n",
       "    }\n",
       "</style>\n",
       "<table border=\"1\" class=\"dataframe\">\n",
       "  <thead>\n",
       "    <tr style=\"text-align: right;\">\n",
       "      <th></th>\n",
       "      <th>ID_Detalle_vta</th>\n",
       "      <th>fecha_hoy</th>\n",
       "      <th>caja_cve</th>\n",
       "      <th>turno_cve</th>\n",
       "      <th>ID_status</th>\n",
       "      <th>fec_com</th>\n",
       "      <th>hora_alta</th>\n",
       "      <th>folio</th>\n",
       "      <th>mesero</th>\n",
       "      <th>id_operador</th>\n",
       "      <th>...</th>\n",
       "      <th>ID_empresa</th>\n",
       "      <th>ID_Map_tipo_bebyali</th>\n",
       "      <th>impto</th>\n",
       "      <th>aa_impto</th>\n",
       "      <th>Total_Sin_Impuestos</th>\n",
       "      <th>aa_total_s_impto</th>\n",
       "      <th>moneda_cve</th>\n",
       "      <th>ID_tipo_venta</th>\n",
       "      <th>ID_map_status</th>\n",
       "      <th>ID_tipo_cheque</th>\n",
       "    </tr>\n",
       "  </thead>\n",
       "  <tbody>\n",
       "    <tr>\n",
       "      <th>0</th>\n",
       "      <td>223675</td>\n",
       "      <td>2018-09-26 00:00:00.000</td>\n",
       "      <td>1</td>\n",
       "      <td>1</td>\n",
       "      <td>1</td>\n",
       "      <td>20180926</td>\n",
       "      <td>92400</td>\n",
       "      <td>12615</td>\n",
       "      <td>AL0</td>\n",
       "      <td>329</td>\n",
       "      <td>...</td>\n",
       "      <td>3</td>\n",
       "      <td>1</td>\n",
       "      <td>1</td>\n",
       "      <td>0</td>\n",
       "      <td>5.118750</td>\n",
       "      <td>0</td>\n",
       "      <td>2</td>\n",
       "      <td>0</td>\n",
       "      <td>2</td>\n",
       "      <td>1</td>\n",
       "    </tr>\n",
       "    <tr>\n",
       "      <th>1</th>\n",
       "      <td>223676</td>\n",
       "      <td>2018-09-26 00:00:00.000</td>\n",
       "      <td>1</td>\n",
       "      <td>1</td>\n",
       "      <td>1</td>\n",
       "      <td>20180926</td>\n",
       "      <td>92400</td>\n",
       "      <td>12615</td>\n",
       "      <td>AL0</td>\n",
       "      <td>329</td>\n",
       "      <td>...</td>\n",
       "      <td>3</td>\n",
       "      <td>1</td>\n",
       "      <td>1</td>\n",
       "      <td>0</td>\n",
       "      <td>7.543125</td>\n",
       "      <td>0</td>\n",
       "      <td>2</td>\n",
       "      <td>0</td>\n",
       "      <td>2</td>\n",
       "      <td>1</td>\n",
       "    </tr>\n",
       "    <tr>\n",
       "      <th>2</th>\n",
       "      <td>223677</td>\n",
       "      <td>2018-09-26 00:00:00.000</td>\n",
       "      <td>1</td>\n",
       "      <td>1</td>\n",
       "      <td>1</td>\n",
       "      <td>20180926</td>\n",
       "      <td>102900</td>\n",
       "      <td>12624</td>\n",
       "      <td>AL0</td>\n",
       "      <td>329</td>\n",
       "      <td>...</td>\n",
       "      <td>3</td>\n",
       "      <td>1</td>\n",
       "      <td>1</td>\n",
       "      <td>0</td>\n",
       "      <td>23.437500</td>\n",
       "      <td>0</td>\n",
       "      <td>2</td>\n",
       "      <td>0</td>\n",
       "      <td>2</td>\n",
       "      <td>2</td>\n",
       "    </tr>\n",
       "    <tr>\n",
       "      <th>3</th>\n",
       "      <td>223678</td>\n",
       "      <td>2018-09-26 00:00:00.000</td>\n",
       "      <td>1</td>\n",
       "      <td>1</td>\n",
       "      <td>1</td>\n",
       "      <td>20180926</td>\n",
       "      <td>102900</td>\n",
       "      <td>12624</td>\n",
       "      <td>AL0</td>\n",
       "      <td>329</td>\n",
       "      <td>...</td>\n",
       "      <td>3</td>\n",
       "      <td>1</td>\n",
       "      <td>1</td>\n",
       "      <td>0</td>\n",
       "      <td>5.118750</td>\n",
       "      <td>0</td>\n",
       "      <td>2</td>\n",
       "      <td>0</td>\n",
       "      <td>2</td>\n",
       "      <td>2</td>\n",
       "    </tr>\n",
       "    <tr>\n",
       "      <th>4</th>\n",
       "      <td>223679</td>\n",
       "      <td>2018-09-26 00:00:00.000</td>\n",
       "      <td>1</td>\n",
       "      <td>1</td>\n",
       "      <td>2</td>\n",
       "      <td>20180926</td>\n",
       "      <td>102900</td>\n",
       "      <td>12624</td>\n",
       "      <td>AL0</td>\n",
       "      <td>329</td>\n",
       "      <td>...</td>\n",
       "      <td>3</td>\n",
       "      <td>1</td>\n",
       "      <td>1</td>\n",
       "      <td>0</td>\n",
       "      <td>-5.711250</td>\n",
       "      <td>0</td>\n",
       "      <td>2</td>\n",
       "      <td>0</td>\n",
       "      <td>2</td>\n",
       "      <td>2</td>\n",
       "    </tr>\n",
       "  </tbody>\n",
       "</table>\n",
       "<p>5 rows × 55 columns</p>\n",
       "</div>"
      ],
      "text/plain": [
       "   ID_Detalle_vta                fecha_hoy  caja_cve  turno_cve  ID_status  \\\n",
       "0          223675  2018-09-26 00:00:00.000         1          1          1   \n",
       "1          223676  2018-09-26 00:00:00.000         1          1          1   \n",
       "2          223677  2018-09-26 00:00:00.000         1          1          1   \n",
       "3          223678  2018-09-26 00:00:00.000         1          1          1   \n",
       "4          223679  2018-09-26 00:00:00.000         1          1          2   \n",
       "\n",
       "    fec_com  hora_alta  folio mesero  id_operador  ... ID_empresa  \\\n",
       "0  20180926      92400  12615    AL0          329  ...          3   \n",
       "1  20180926      92400  12615    AL0          329  ...          3   \n",
       "2  20180926     102900  12624    AL0          329  ...          3   \n",
       "3  20180926     102900  12624    AL0          329  ...          3   \n",
       "4  20180926     102900  12624    AL0          329  ...          3   \n",
       "\n",
       "   ID_Map_tipo_bebyali  impto  aa_impto  Total_Sin_Impuestos  \\\n",
       "0                    1      1         0             5.118750   \n",
       "1                    1      1         0             7.543125   \n",
       "2                    1      1         0            23.437500   \n",
       "3                    1      1         0             5.118750   \n",
       "4                    1      1         0            -5.711250   \n",
       "\n",
       "   aa_total_s_impto  moneda_cve  ID_tipo_venta  ID_map_status  ID_tipo_cheque  \n",
       "0                 0           2              0              2               1  \n",
       "1                 0           2              0              2               1  \n",
       "2                 0           2              0              2               2  \n",
       "3                 0           2              0              2               2  \n",
       "4                 0           2              0              2               2  \n",
       "\n",
       "[5 rows x 55 columns]"
      ]
     },
     "execution_count": 11,
     "metadata": {},
     "output_type": "execute_result"
    }
   ],
   "source": [
    "Ventas.head()"
   ]
  },
  {
   "cell_type": "code",
   "execution_count": 12,
   "id": "cd8a805c",
   "metadata": {},
   "outputs": [],
   "source": [
    "Ventas = Ventas[[\"fecha_hoy\", \"platillo_cve\",\"HORA_MIN_SEG\", \"cantidad_ali\", \"cantidad_beb\", \"importe\", \"ID_empresa\"]]\n",
    "iar_empresas = pd.read_csv(\"/Users/fernandalee/Documents/archivos_reto/iar_Empresas.csv\")"
   ]
  },
  {
   "cell_type": "code",
   "execution_count": 13,
   "id": "f71e0d01",
   "metadata": {},
   "outputs": [
    {
     "data": {
      "application/vnd.microsoft.datawrangler.viewer.v0+json": {
       "columns": [
        {
         "name": "index",
         "rawType": "int64",
         "type": "integer"
        },
        {
         "name": "fecha_hoy",
         "rawType": "object",
         "type": "string"
        },
        {
         "name": "platillo_cve",
         "rawType": "object",
         "type": "string"
        },
        {
         "name": "HORA_MIN_SEG",
         "rawType": "int64",
         "type": "integer"
        },
        {
         "name": "cantidad_ali",
         "rawType": "float64",
         "type": "float"
        },
        {
         "name": "cantidad_beb",
         "rawType": "float64",
         "type": "float"
        },
        {
         "name": "importe",
         "rawType": "float64",
         "type": "float"
        },
        {
         "name": "ID_empresa",
         "rawType": "int64",
         "type": "integer"
        }
       ],
       "conversionMethod": "pd.DataFrame",
       "ref": "5ae83156-b368-414d-a746-ce25641e1111",
       "rows": [
        [
         "0",
         "2018-09-26 00:00:00.000",
         "DES026  ",
         "92400",
         "1.0",
         "0.0",
         "5.118534482758621",
         "3"
        ],
        [
         "1",
         "2018-09-26 00:00:00.000",
         "POS005  ",
         "92400",
         "2.0",
         "0.0",
         "7.543103448275863",
         "3"
        ],
        [
         "2",
         "2018-09-26 00:00:00.000",
         "DES002  ",
         "102900",
         "3.0",
         "0.0",
         "23.4375",
         "3"
        ],
        [
         "3",
         "2018-09-26 00:00:00.000",
         "DES027  ",
         "102900",
         "1.0",
         "0.0",
         "5.118534482758621",
         "3"
        ],
        [
         "4",
         "2018-09-26 00:00:00.000",
         "DSCALI  ",
         "102900",
         "0.0",
         "0.0",
         "-5.711206896551724",
         "3"
        ]
       ],
       "shape": {
        "columns": 7,
        "rows": 5
       }
      },
      "text/html": [
       "<div>\n",
       "<style scoped>\n",
       "    .dataframe tbody tr th:only-of-type {\n",
       "        vertical-align: middle;\n",
       "    }\n",
       "\n",
       "    .dataframe tbody tr th {\n",
       "        vertical-align: top;\n",
       "    }\n",
       "\n",
       "    .dataframe thead th {\n",
       "        text-align: right;\n",
       "    }\n",
       "</style>\n",
       "<table border=\"1\" class=\"dataframe\">\n",
       "  <thead>\n",
       "    <tr style=\"text-align: right;\">\n",
       "      <th></th>\n",
       "      <th>fecha_hoy</th>\n",
       "      <th>platillo_cve</th>\n",
       "      <th>HORA_MIN_SEG</th>\n",
       "      <th>cantidad_ali</th>\n",
       "      <th>cantidad_beb</th>\n",
       "      <th>importe</th>\n",
       "      <th>ID_empresa</th>\n",
       "    </tr>\n",
       "  </thead>\n",
       "  <tbody>\n",
       "    <tr>\n",
       "      <th>0</th>\n",
       "      <td>2018-09-26 00:00:00.000</td>\n",
       "      <td>DES026</td>\n",
       "      <td>92400</td>\n",
       "      <td>1.0</td>\n",
       "      <td>0.0</td>\n",
       "      <td>5.118534</td>\n",
       "      <td>3</td>\n",
       "    </tr>\n",
       "    <tr>\n",
       "      <th>1</th>\n",
       "      <td>2018-09-26 00:00:00.000</td>\n",
       "      <td>POS005</td>\n",
       "      <td>92400</td>\n",
       "      <td>2.0</td>\n",
       "      <td>0.0</td>\n",
       "      <td>7.543103</td>\n",
       "      <td>3</td>\n",
       "    </tr>\n",
       "    <tr>\n",
       "      <th>2</th>\n",
       "      <td>2018-09-26 00:00:00.000</td>\n",
       "      <td>DES002</td>\n",
       "      <td>102900</td>\n",
       "      <td>3.0</td>\n",
       "      <td>0.0</td>\n",
       "      <td>23.437500</td>\n",
       "      <td>3</td>\n",
       "    </tr>\n",
       "    <tr>\n",
       "      <th>3</th>\n",
       "      <td>2018-09-26 00:00:00.000</td>\n",
       "      <td>DES027</td>\n",
       "      <td>102900</td>\n",
       "      <td>1.0</td>\n",
       "      <td>0.0</td>\n",
       "      <td>5.118534</td>\n",
       "      <td>3</td>\n",
       "    </tr>\n",
       "    <tr>\n",
       "      <th>4</th>\n",
       "      <td>2018-09-26 00:00:00.000</td>\n",
       "      <td>DSCALI</td>\n",
       "      <td>102900</td>\n",
       "      <td>0.0</td>\n",
       "      <td>0.0</td>\n",
       "      <td>-5.711207</td>\n",
       "      <td>3</td>\n",
       "    </tr>\n",
       "  </tbody>\n",
       "</table>\n",
       "</div>"
      ],
      "text/plain": [
       "                 fecha_hoy platillo_cve  HORA_MIN_SEG  cantidad_ali  \\\n",
       "0  2018-09-26 00:00:00.000     DES026           92400           1.0   \n",
       "1  2018-09-26 00:00:00.000     POS005           92400           2.0   \n",
       "2  2018-09-26 00:00:00.000     DES002          102900           3.0   \n",
       "3  2018-09-26 00:00:00.000     DES027          102900           1.0   \n",
       "4  2018-09-26 00:00:00.000     DSCALI          102900           0.0   \n",
       "\n",
       "   cantidad_beb    importe  ID_empresa  \n",
       "0           0.0   5.118534           3  \n",
       "1           0.0   7.543103           3  \n",
       "2           0.0  23.437500           3  \n",
       "3           0.0   5.118534           3  \n",
       "4           0.0  -5.711207           3  "
      ]
     },
     "execution_count": 13,
     "metadata": {},
     "output_type": "execute_result"
    }
   ],
   "source": [
    "Ventas.head()"
   ]
  },
  {
   "cell_type": "markdown",
   "id": "8471bbc9",
   "metadata": {},
   "source": [
    "## Empresas"
   ]
  },
  {
   "cell_type": "code",
   "execution_count": 14,
   "id": "6db93ab0",
   "metadata": {},
   "outputs": [],
   "source": [
    "Ventas = Ventas.merge(\n",
    "    iar_empresas[[\"ID_empresa\", \"Empresa_nombre\"]],\n",
    "    left_on=\"ID_empresa\",     # columna en Ventas\n",
    "    right_on=\"ID_empresa\",    # columna en iar_empresas\n",
    "    how=\"left\"\n",
    ")"
   ]
  },
  {
   "cell_type": "code",
   "execution_count": 15,
   "id": "51eb5680",
   "metadata": {},
   "outputs": [],
   "source": [
    "## Pasar a formato datetime\n",
    "Ventas['fecha_hoy'] = pd.to_datetime(Ventas['fecha_hoy'], errors='coerce')\n",
    "Ventas['fecha_hoy'] = Ventas['fecha_hoy'].dt.date"
   ]
  },
  {
   "cell_type": "markdown",
   "id": "f0b79602",
   "metadata": {},
   "source": [
    "## Guardar datos\n"
   ]
  },
  {
   "cell_type": "code",
   "execution_count": 16,
   "id": "b383ed2b",
   "metadata": {},
   "outputs": [],
   "source": [
    "# Reservaciones.to_csv(\"Reservaciones.csv\", index=False)\n",
    "# Ventas.to_csv(\"Ventas.csv\", index=False)"
   ]
  },
  {
   "cell_type": "markdown",
   "id": "b7f87227",
   "metadata": {},
   "source": [
    "## Verificación de tipos de datos"
   ]
  },
  {
   "cell_type": "code",
   "execution_count": 17,
   "id": "fb369314",
   "metadata": {},
   "outputs": [
    {
     "name": "stdout",
     "output_type": "stream",
     "text": [
      "ID_Reserva                  int64\n",
      "Fecha_hoy                  object\n",
      "h_num_per                   int64\n",
      "h_num_adu                   int64\n",
      "h_num_men                   int64\n",
      "h_num_noc                   int64\n",
      "h_tot_hab                   int64\n",
      "ID_Tipo_Habitacion          int64\n",
      "ID_Pais_Origen              int64\n",
      "h_edo                      object\n",
      "h_tfa_total               float64\n",
      "moneda_cve                  int64\n",
      "Hotel_cve                  object\n",
      "Agencia_nombre             object\n",
      "Estado_cve                 object\n",
      "Tipo_Habitacion_nombre     object\n",
      "Clasificacion              object\n",
      "Empresa_nombre             object\n",
      "Franquicia                 object\n",
      "Paquete_nombre             object\n",
      "dtype: object\n"
     ]
    }
   ],
   "source": [
    "print(Reservaciones.dtypes)"
   ]
  },
  {
   "cell_type": "code",
   "execution_count": 18,
   "id": "522a4c8c",
   "metadata": {},
   "outputs": [
    {
     "name": "stdout",
     "output_type": "stream",
     "text": [
      "fecha_hoy          object\n",
      "platillo_cve       object\n",
      "HORA_MIN_SEG        int64\n",
      "cantidad_ali      float64\n",
      "cantidad_beb      float64\n",
      "importe           float64\n",
      "ID_empresa          int64\n",
      "Empresa_nombre     object\n",
      "dtype: object\n"
     ]
    }
   ],
   "source": [
    "print(Ventas.dtypes)"
   ]
  },
  {
   "cell_type": "markdown",
   "id": "e0650d8a",
   "metadata": {},
   "source": [
    "## Corrección de tipos de datos"
   ]
  },
  {
   "cell_type": "code",
   "execution_count": 19,
   "id": "5d3b48af",
   "metadata": {},
   "outputs": [],
   "source": [
    "Ventas[\"cantidad_ali\"] = Ventas[\"cantidad_ali\"].astype(int)\n",
    "Ventas[\"cantidad_beb\"] = Ventas[\"cantidad_beb\"].astype(int)"
   ]
  },
  {
   "cell_type": "markdown",
   "id": "f9a0f080",
   "metadata": {},
   "source": [
    "## Visualización de variables numéricas"
   ]
  },
  {
   "cell_type": "code",
   "execution_count": 20,
   "id": "e033a4ac",
   "metadata": {},
   "outputs": [
    {
     "data": {
      "image/png": "[encoded data removed]",
      "text/plain": [
       "<Figure size 1200x500 with 2 Axes>"
      ]
     },
     "metadata": {},
     "output_type": "display_data"
    },
    {
     "data": {
      "image/png": "[encoded data removed]",
      "text/plain": [
       "<Figure size 1200x500 with 2 Axes>"
      ]
     },
     "metadata": {},
     "output_type": "display_data"
    },
    {
     "data": {
      "image/png": "[encoded data removed]",
      "text/plain": [
       "<Figure size 1200x500 with 2 Axes>"
      ]
     },
     "metadata": {},
     "output_type": "display_data"
    }
   ],
   "source": [
    "\n",
    "\n",
    "columnas_numericas = ['h_tfa_total', 'h_num_per', 'h_num_noc']\n",
    "\n",
    "for col in columnas_numericas:\n",
    "    plt.figure(figsize=(12, 5))\n",
    "\n",
    "    plt.subplot(1, 2, 1)\n",
    "    sns.histplot(Reservaciones[col], kde=True, bins=10, color='skyblue')\n",
    "    plt.title(f'Histograma de {col}')\n",
    "\n",
    "    plt.subplot(1, 2, 2)\n",
    "    sns.boxplot(x=Reservaciones[col], color='lightcoral')\n",
    "    plt.title(f'Boxplot de {col}')\n",
    "\n",
    "    plt.tight_layout()\n",
    "    plt.show()\n"
   ]
  },
  {
   "cell_type": "code",
   "execution_count": 21,
   "id": "f1b42b63",
   "metadata": {},
   "outputs": [
    {
     "data": {
      "image/png": "[encoded data removed]",
      "text/plain": [
       "<Figure size 1200x500 with 2 Axes>"
      ]
     },
     "metadata": {},
     "output_type": "display_data"
    },
    {
     "data": {
      "image/png": "[encoded data removed]",
      "text/plain": [
       "<Figure size 1200x500 with 2 Axes>"
      ]
     },
     "metadata": {},
     "output_type": "display_data"
    },
    {
     "data": {
      "image/png": "[encoded data removed]",
      "text/plain": [
       "<Figure size 1200x500 with 2 Axes>"
      ]
     },
     "metadata": {},
     "output_type": "display_data"
    }
   ],
   "source": [
    "columnas_numericas = ['cantidad_ali', 'cantidad_beb', 'importe']\n",
    "\n",
    "for col in columnas_numericas:\n",
    "    plt.figure(figsize=(12, 5))\n",
    "\n",
    "    plt.subplot(1, 2, 1)\n",
    "    sns.histplot(Ventas[col], kde=True, bins=10, color='skyblue')\n",
    "    plt.title(f'Histograma de {col}')\n",
    "\n",
    "    plt.subplot(1, 2, 2)\n",
    "    sns.boxplot(x=Ventas[col], color='lightcoral')\n",
    "    plt.title(f'Boxplot de {col}')\n",
    "\n",
    "    plt.tight_layout()\n",
    "    plt.show()\n"
   ]
  },
  {
   "cell_type": "markdown",
   "id": "afaa0bbc",
   "metadata": {},
   "source": [
    "## Visualización de la frecuencia de variables categóricas"
   ]
  },
  {
   "cell_type": "code",
   "execution_count": 22,
   "id": "b04c8085",
   "metadata": {},
   "outputs": [
    {
     "data": {
      "image/png": "[encoded data removed]",
      "text/plain": [
       "<Figure size 1000x500 with 1 Axes>"
      ]
     },
     "metadata": {},
     "output_type": "display_data"
    },
    {
     "data": {
      "image/png": "[encoded data removed]",
      "text/plain": [
       "<Figure size 1000x500 with 1 Axes>"
      ]
     },
     "metadata": {},
     "output_type": "display_data"
    }
   ],
   "source": [
    "variables_categoricas = ['Paquete_nombre',  'Agencia_nombre']\n",
    "\n",
    "for col in variables_categoricas:\n",
    "    plt.figure(figsize=(10, 5))\n",
    "    Reservaciones[col] = Reservaciones[col].astype(str).str.strip().str.upper()\n",
    "    sns.countplot(y=Reservaciones[col], order=Reservaciones[col].value_counts().index[:10])\n",
    "    plt.title(f'Top categorías más frecuentes en {col}')\n",
    "    plt.xlabel('Frecuencia')\n",
    "    plt.ylabel(col)\n",
    "    plt.tight_layout()\n",
    "    plt.show()\n"
   ]
  },
  {
   "cell_type": "markdown",
   "id": "81eb6f06",
   "metadata": {},
   "source": [
    "## Valores imposibles"
   ]
  },
  {
   "cell_type": "markdown",
   "id": "3f3a9b5b",
   "metadata": {},
   "source": [
    "Se identificaron y filtraron valores imposibles en el conjunto de datos, considerando las siguientes reglas de validación lógica:\n",
    "\n",
    "- **Variables de conteo de personas o habitaciones** (`h_num_per`, `h_num_adu`, `h_num_men`, `h_num_noc`, `h_tot_hab`, y sus duplicados `aa_*`):\n",
    "  - No pueden ser negativos.\n",
    "  - Se espera que el número total de personas (`h_num_per`) sea al menos la suma de adultos y menores.\n",
    "  - El número de noches (`h_num_noc`) debe ser positivo.\n",
    "\n",
    "- **Montos económicos (`h_tfa_total`)**:\n",
    "  - No se aceptan valores negativos en tarifas.\n",
    "\n",
    "- **ID de referencia (`ID_*`)**:\n",
    "  - No deben ser negativos. Aunque pueden ser cero si representan \"sin asignar\".\n",
    "\n",
    "- **Campos booleanos o binarios (`Cliente_Disp`, `aa_Cliente_Disp`, `Reservacion`)**:\n",
    "  - Deben tener valores en {0, 1}. Se filtraron valores distintos.\n",
    "\n",
    "- **Fechas (`*_fec_*`)**:\n",
    "  - Se eliminaron fechas imposibles (año menor a 1900 o mayor a 2100).\n"
   ]
  },
  {
   "cell_type": "markdown",
   "id": "3bfdf8e9",
   "metadata": {},
   "source": [
    "## Corrección de Outliers"
   ]
  },
  {
   "cell_type": "markdown",
   "id": "0ac90cb8",
   "metadata": {},
   "source": [
    "Se detectaron outliers en las siguientes variables:\n",
    "\n",
    "- `h_tfa_total` (141 outliers): distribución no normal (Shapiro-Wilk p=0.0000).\n",
    "- `h_num_per` (706 outliers): distribución no normal (p=0.0000).\n",
    "- `h_num_noc` (139 outliers): distribución no normal (p=0.0000).\n",
    "\n",
    "Debido a la **no normalidad** de la mayoría de las variables, se utilizó el método de IQR para detectar y corregir outliers. Los valores fuera de los límites (Q1 - 1.5×IQR, Q3 + 1.5×IQR) fueron truncados (winsorized) al percentil más alto/límite permitido para evitar distorsión en análisis posteriores sin perder filas.\n",
    "\n",
    "La advertencia de `scipy.stats.shapiro` indicando “range zero” se presenta cuando todos los valores de una variable son idénticos, por lo que no se puede evaluar su distribución. En este caso, simplemente se descarta el test y se trata como dato constante.\n"
   ]
  },
  {
   "cell_type": "code",
   "execution_count": 23,
   "id": "db105bb2",
   "metadata": {},
   "outputs": [],
   "source": [
    "import numpy as np"
   ]
  },
  {
   "cell_type": "markdown",
   "id": "390d886c",
   "metadata": {},
   "source": [
    "## QQ Plots y pruebas de normalidad"
   ]
  },
  {
   "cell_type": "code",
   "execution_count": 24,
   "id": "733812ed",
   "metadata": {},
   "outputs": [
    {
     "name": "stdout",
     "output_type": "stream",
     "text": [
      "[Normaltest] h_tfa_total: stat=295482.6171, p-value=0.0000e+00\n",
      "[Anderson-Darling] h_tfa_total: stat=3504.8405\n",
      "Critical values: [0.576 0.656 0.787 0.918 1.092]\n",
      "Significance levels: [15.  10.   5.   2.5  1. ]\n"
     ]
    },
    {
     "data": {
      "image/png": "[encoded data removed]",
      "text/plain": [
       "<Figure size 640x480 with 1 Axes>"
      ]
     },
     "metadata": {},
     "output_type": "display_data"
    },
    {
     "name": "stdout",
     "output_type": "stream",
     "text": [
      "[Normaltest] h_num_per: stat=89307.7766, p-value=0.0000e+00\n",
      "[Anderson-Darling] h_num_per: stat=15197.2008\n",
      "Critical values: [0.576 0.656 0.787 0.918 1.092]\n",
      "Significance levels: [15.  10.   5.   2.5  1. ]\n"
     ]
    },
    {
     "data": {
      "image/png": "[encoded data removed]",
      "text/plain": [
       "<Figure size 640x480 with 1 Axes>"
      ]
     },
     "metadata": {},
     "output_type": "display_data"
    },
    {
     "name": "stdout",
     "output_type": "stream",
     "text": [
      "[Normaltest] h_num_noc: stat=247416.3308, p-value=0.0000e+00\n",
      "[Anderson-Darling] h_num_noc: stat=9188.5715\n",
      "Critical values: [0.576 0.656 0.787 0.918 1.092]\n",
      "Significance levels: [15.  10.   5.   2.5  1. ]\n"
     ]
    },
    {
     "data": {
      "image/png": "[encoded data removed]",
      "text/plain": [
       "<Figure size 640x480 with 1 Axes>"
      ]
     },
     "metadata": {},
     "output_type": "display_data"
    }
   ],
   "source": [
    "\n",
    "\n",
    "columnas = ['h_tfa_total', 'h_num_per', 'h_num_noc']\n",
    "\n",
    "for col in columnas:\n",
    "    data = Reservaciones[col]\n",
    "\n",
    "    # D’Agostino-Pearson Test\n",
    "    k2_stat, p_norm = normaltest(data)\n",
    "    print(f\"[Normaltest] {col}: stat={k2_stat:.4f}, p-value={p_norm:.4e}\")\n",
    "\n",
    "    # Anderson-Darling Test\n",
    "    ad_result = anderson(data, dist='norm')\n",
    "    print(f\"[Anderson-Darling] {col}: stat={ad_result.statistic:.4f}\")\n",
    "    print(\"Critical values:\", ad_result.critical_values)\n",
    "    print(\"Significance levels:\", ad_result.significance_level)\n",
    "\n",
    "    # QQ plot\n",
    "    sm.qqplot(data, line='s')\n",
    "    plt.title(f\"QQ plot for {col}\")\n",
    "    plt.show()\n"
   ]
  },
  {
   "cell_type": "markdown",
   "id": "20df2b95",
   "metadata": {},
   "source": [
    "Al tener valores de p-value < 0 indica a que se rechaza la hipótesis nula de que los datos poseen normalidad alguna."
   ]
  },
  {
   "cell_type": "code",
   "execution_count": 25,
   "id": "fa51f78e",
   "metadata": {},
   "outputs": [
    {
     "name": "stdout",
     "output_type": "stream",
     "text": [
      "[Normaltest] cantidad_ali: stat=4524991.2048, p-value=0.0000e+00\n",
      "[Anderson-Darling] cantidad_ali: stat=492869.7921\n",
      "Critical values: [0.576 0.656 0.787 0.918 1.092]\n",
      "Significance levels: [15.  10.   5.   2.5  1. ]\n"
     ]
    },
    {
     "data": {
      "image/png": "[encoded data removed]",
      "text/plain": [
       "<Figure size 640x480 with 1 Axes>"
      ]
     },
     "metadata": {},
     "output_type": "display_data"
    },
    {
     "name": "stdout",
     "output_type": "stream",
     "text": [
      "[Normaltest] cantidad_beb: stat=5176210.8794, p-value=0.0000e+00\n",
      "[Anderson-Darling] cantidad_beb: stat=496575.2888\n",
      "Critical values: [0.576 0.656 0.787 0.918 1.092]\n",
      "Significance levels: [15.  10.   5.   2.5  1. ]\n"
     ]
    },
    {
     "data": {
      "image/png": "[encoded data removed]",
      "text/plain": [
       "<Figure size 640x480 with 1 Axes>"
      ]
     },
     "metadata": {},
     "output_type": "display_data"
    },
    {
     "name": "stdout",
     "output_type": "stream",
     "text": [
      "[Normaltest] importe: stat=5905010.8492, p-value=0.0000e+00\n",
      "[Anderson-Darling] importe: stat=511297.8641\n",
      "Critical values: [0.576 0.656 0.787 0.918 1.092]\n",
      "Significance levels: [15.  10.   5.   2.5  1. ]\n"
     ]
    },
    {
     "data": {
      "image/png": "[encoded data removed]",
      "text/plain": [
       "<Figure size 640x480 with 1 Axes>"
      ]
     },
     "metadata": {},
     "output_type": "display_data"
    }
   ],
   "source": [
    "\n",
    "columnas = ['cantidad_ali', 'cantidad_beb', 'importe']\n",
    "\n",
    "for col in columnas:\n",
    "    data = Ventas[col]\n",
    "\n",
    "    # D’Agostino-Pearson Test\n",
    "    k2_stat, p_norm = normaltest(data)\n",
    "    print(f\"[Normaltest] {col}: stat={k2_stat:.4f}, p-value={p_norm:.4e}\")\n",
    "\n",
    "    # Anderson-Darling Test\n",
    "    ad_result = anderson(data, dist='norm')\n",
    "    print(f\"[Anderson-Darling] {col}: stat={ad_result.statistic:.4f}\")\n",
    "    print(\"Critical values:\", ad_result.critical_values)\n",
    "    print(\"Significance levels:\", ad_result.significance_level)\n",
    "\n",
    "    # QQ plot\n",
    "    sm.qqplot(data, line='s')\n",
    "    plt.title(f\"QQ plot for {col}\")\n",
    "    plt.show()"
   ]
  },
  {
   "cell_type": "markdown",
   "id": "d893522c",
   "metadata": {},
   "source": [
    "También estos valores obtuvieron un p-value < 0, por lo que se rechaza la hipótesis nula de que los datos poseen normalidad alguna."
   ]
  },
  {
   "cell_type": "markdown",
   "id": "bb76d756",
   "metadata": {},
   "source": [
    "## Identificación de Valores Categóricos"
   ]
  },
  {
   "cell_type": "markdown",
   "id": "3433bb32",
   "metadata": {},
   "source": [
    "### Reservaciones"
   ]
  },
  {
   "cell_type": "code",
   "execution_count": 26,
   "id": "1b0aaf6f",
   "metadata": {},
   "outputs": [
    {
     "name": "stdout",
     "output_type": "stream",
     "text": [
      "Columnas categóricas identificadas:\n",
      "['h_tot_hab', 'Franquicia', 'Clasificacion', 'h_num_per', 'Hotel_cve', 'h_num_noc', 'Agencia_nombre', 'h_edo', 'h_num_adu', 'moneda_cve', 'Empresa_nombre', 'ID_Pais_Origen', 'Estado_cve', 'Paquete_nombre', 'Fecha_hoy', 'ID_Tipo_Habitacion', 'Tipo_Habitacion_nombre', 'h_num_men']\n"
     ]
    }
   ],
   "source": [
    "cat_cols = []# Esta es una lista donde guardaremos las columnas categóricas\n",
    "\n",
    "cat_cols += list(Reservaciones.select_dtypes(include='object').columns)\n",
    "\n",
    "# También consideraremos columnas tipo int64 \n",
    "n_rows = len(Reservaciones)\n",
    "for col in Reservaciones.select_dtypes(include='int64').columns:\n",
    "    if Reservaciones[col].nunique() <= n_rows * 0.05:\n",
    "        cat_cols.append(col)\n",
    "\n",
    "cat_cols = list(set(cat_cols))  # eliminar duplicados\n",
    "\n",
    "print(\"Columnas categóricas identificadas:\")\n",
    "print(cat_cols)\n"
   ]
  },
  {
   "cell_type": "markdown",
   "id": "3f08122e",
   "metadata": {},
   "source": [
    "### Ventas"
   ]
  },
  {
   "cell_type": "code",
   "execution_count": 27,
   "id": "7fabd392",
   "metadata": {},
   "outputs": [
    {
     "name": "stdout",
     "output_type": "stream",
     "text": [
      "Columnas categóricas identificadas:\n",
      "['ID_empresa', 'cantidad_ali', 'cantidad_beb', 'HORA_MIN_SEG', 'Empresa_nombre', 'fecha_hoy', 'platillo_cve']\n"
     ]
    }
   ],
   "source": [
    "cat_cols = []\n",
    "\n",
    "cat_cols += list(Ventas.select_dtypes(include='object').columns)\n",
    "\n",
    "n_rows = len(Ventas)\n",
    "for col in Ventas.select_dtypes(include='int64').columns:\n",
    "    if Ventas[col].nunique() <= n_rows * 0.05:\n",
    "        cat_cols.append(col)\n",
    "\n",
    "cat_cols = list(set(cat_cols))  # eliminar duplicados\n",
    "\n",
    "print(\"Columnas categóricas identificadas:\")\n",
    "print(cat_cols)\n"
   ]
  },
  {
   "cell_type": "code",
   "execution_count": 28,
   "id": "88702985",
   "metadata": {},
   "outputs": [
    {
     "data": {
      "text/plain": [
       "(102154, 20)"
      ]
     },
     "execution_count": 28,
     "metadata": {},
     "output_type": "execute_result"
    }
   ],
   "source": [
    "Reservaciones.shape"
   ]
  },
  {
   "cell_type": "code",
   "execution_count": 29,
   "id": "ed795ecc",
   "metadata": {},
   "outputs": [
    {
     "data": {
      "text/plain": [
       "(1608260, 8)"
      ]
     },
     "execution_count": 29,
     "metadata": {},
     "output_type": "execute_result"
    }
   ],
   "source": [
    "Ventas.shape"
   ]
  },
  {
   "cell_type": "code",
   "execution_count": null,
   "id": "4b4d49e2",
   "metadata": {},
   "outputs": [],
   "source": [
    "#Ventas.to_csv(\"/Users/fernandalee/Documents/archivos_reto/Ventas.csv\", index=False)\n",
    "#Reservaciones.to_csv(\"/Users/fernandalee/Documents/archivos_reto/Reservaciones.csv\", index=False)"
   ]
  }
 ],
 "metadata": {
  "kernelspec": {
   "display_name": "base",
   "language": "python",
   "name": "python3"
  },
  "language_info": {
   "codemirror_mode": {
    "name": "ipython",
    "version": 3
   },
   "file_extension": ".py",
   "mimetype": "text/x-python",
   "name": "python",
   "nbconvert_exporter": "python",
   "pygments_lexer": "ipython3",
   "version": "3.12.9"
  }
 },
 "nbformat": 4,
 "nbformat_minor": 5
}
