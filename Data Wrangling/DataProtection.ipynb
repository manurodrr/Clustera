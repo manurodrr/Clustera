{
 "cells": [
  {
   "cell_type": "markdown",
   "id": "3774373e",
   "metadata": {},
   "source": [
    "# Data Protection\n",
    "\n",
    "El objetivo de este Notebook es asegurar la protección de los datos personales dentro de nuestra base de datos llamada 'Reservaciones', alineado con normas como ISO/IEC 27001 y la LFPDPPP (Ley Federal de Protección de Datos Personales en Posesión de los Particulares) "
   ]
  },
  {
   "cell_type": "markdown",
   "id": "d9d1bd9c",
   "metadata": {},
   "source": [
    "## Sobre los datos\n",
    "Nos encontramos con un dataframe con la siguiente información:"
   ]
  },
  {
   "cell_type": "code",
   "execution_count": 2,
   "id": "82aff4df",
   "metadata": {},
   "outputs": [
    {
     "name": "stdout",
     "output_type": "stream",
     "text": [
      "<class 'pandas.core.frame.DataFrame'>\n",
      "RangeIndex: 102154 entries, 0 to 102153\n",
      "Data columns (total 20 columns):\n",
      " #   Column                  Non-Null Count   Dtype  \n",
      "---  ------                  --------------   -----  \n",
      " 0   ID_Reserva              102154 non-null  int64  \n",
      " 1   Fecha_hoy               102154 non-null  object \n",
      " 2   h_num_per               102154 non-null  int64  \n",
      " 3   h_num_adu               102154 non-null  int64  \n",
      " 4   h_num_men               102154 non-null  int64  \n",
      " 5   h_num_noc               102154 non-null  int64  \n",
      " 6   h_tot_hab               102154 non-null  int64  \n",
      " 7   ID_Tipo_Habitacion      102154 non-null  int64  \n",
      " 8   ID_Pais_Origen          102154 non-null  int64  \n",
      " 9   h_edo                   102154 non-null  object \n",
      " 10  h_tfa_total             102154 non-null  float64\n",
      " 11  moneda_cve              102154 non-null  int64  \n",
      " 12  Hotel_cve               102154 non-null  object \n",
      " 13  Agencia_nombre          102154 non-null  object \n",
      " 14  Estado_cve              102154 non-null  object \n",
      " 15  Tipo_Habitacion_nombre  102154 non-null  object \n",
      " 16  Clasificacion           102154 non-null  object \n",
      " 17  Empresa_nombre          102154 non-null  object \n",
      " 18  Franquicia              102154 non-null  object \n",
      " 19  Paquete_nombre          102154 non-null  object \n",
      "dtypes: float64(1), int64(9), object(10)\n",
      "memory usage: 15.6+ MB\n"
     ]
    }
   ],
   "source": [
    "import pandas as pd \n",
    "\n",
    "rsv = pd.read_csv('/Users/manuelrodriguez/Documents/Proyectos/Clustera/Data/Reservaciones.csv')\n",
    "rsv.info ()"
   ]
  },
  {
   "cell_type": "markdown",
   "id": "98f52bb2",
   "metadata": {},
   "source": [
    "Donde:\n",
    "| Columna                | Tipo de Sensibilidad | Justificación                                                   |\n",
    "|------------------------|----------------------|-----------------------------------------------------------------|\n",
    "| ID_Reserva             | \"Identificador\"      | Puede vincularse a una persona o transacción específica.        |\n",
    "| Agencia_nombre         | Sensible             | Puede revelar socios comerciales.                               |\n",
    "| Empresa_nombre         | Sensible             | Identifica empresas clientes.                                   |\n",
    "| Hotel_cve              | Sensible             | Información interna de operación.                               |\n",
    "| Franquicia             | Sensible             | Relación con marcas específicas.                                |\n",
    "| Paquete_nombre         | Sensible             | Muestra detalles de productos vendidos.                         |\n",
    "| Fecha_hoy              | Temporal             | Puede usarse para inferir reservas recientes.                   |\n",
    "| Estado_cve / h_edo     | \"Identificador\"      | Puede usarse para segmentar ubicación geográfica.               |\n"
   ]
  },
  {
   "cell_type": "markdown",
   "id": "3684e8f9",
   "metadata": {},
   "source": [
    "## Enmascaramiento de Datos \n",
    "\n",
    "Para proteger esta información durante el análisis, pruebas, o trabajo colaborativo, utilizaremos técnicas de enmascaramiento de datos. "
   ]
  },
  {
   "cell_type": "markdown",
   "id": "b82c437e",
   "metadata": {},
   "source": [
    "### Tokenización\n",
    "La tokenización sustituye valores sensibles por identificadores únicos, preservando la estructura original, y opcionalmente permitiendo reversibilidad si se almacena un diccionario seguro."
   ]
  },
  {
   "cell_type": "code",
   "execution_count": 4,
   "id": "24b19fdf",
   "metadata": {},
   "outputs": [],
   "source": [
    "import pandas as pd\n",
    "import hashlib\n",
    "import uuid\n",
    "import os\n",
    "import json\n",
    "\n",
    "token_maps = {}\n",
    "\n",
    "def tokenize_column(df, column):\n",
    "    mapping = {}\n",
    "    tokenized_values = []\n",
    "    for value in df[column]:\n",
    "        if value not in mapping:\n",
    "            token = f\"TOK_{uuid.uuid4().hex[:8]}\"\n",
    "            mapping[value] = token\n",
    "        tokenized_values.append(mapping[value])\n",
    "    token_maps[column] = mapping  # Guarda el mapeo para posible reversión\n",
    "    df[column] = tokenized_values\n",
    "    return df\n",
    "\n",
    "sensitive_cols = [\"Agencia_nombre\", \"Empresa_nombre\", \"Hotel_cve\", \"Franquicia\", \"Paquete_nombre\"]\n",
    "\n",
    "for col in sensitive_cols:\n",
    "    rsv = tokenize_column(rsv, col)"
   ]
  },
  {
   "cell_type": "markdown",
   "id": "fe291157",
   "metadata": {},
   "source": [
    "Nuestro dataframe fue tokenizado, ahora guardaremos el mappeo en un archivo .json"
   ]
  },
  {
   "cell_type": "code",
   "execution_count": null,
   "id": "ac376bc5",
   "metadata": {},
   "outputs": [],
   "source": [
    "import json\n",
    "\n",
    "ruta = \"/Users/manuelrodriguez/Documents/Proyectos/Clustera/Outputs/token_maps.json\"\n",
    "\n",
    "with open(ruta, \"w\") as f:\n",
    "    json.dump(token_maps, f)"
   ]
  },
  {
   "cell_type": "markdown",
   "id": "45084553",
   "metadata": {},
   "source": [
    "Para revertir la tokenización, podemos:"
   ]
  },
  {
   "cell_type": "code",
   "execution_count": 6,
   "id": "4502d135",
   "metadata": {},
   "outputs": [],
   "source": [
    "import json\n",
    "import pandas as pd\n",
    "\n",
    "with open(\"/Users/manuelrodriguez/Documents/Proyectos/Clustera/Outputs/token_maps.json\", \"r\") as f:\n",
    "    token_maps = json.load(f)\n",
    "for col, mapping in token_maps.items():\n",
    "    reverse_map = {v: k for k, v in mapping.items()}\n",
    "    rsv[col] = rsv[col].map(reverse_map)\n"
   ]
  }
 ],
 "metadata": {
  "kernelspec": {
   "display_name": "base",
   "language": "python",
   "name": "python3"
  },
  "language_info": {
   "codemirror_mode": {
    "name": "ipython",
    "version": 3
   },
   "file_extension": ".py",
   "mimetype": "text/x-python",
   "name": "python",
   "nbconvert_exporter": "python",
   "pygments_lexer": "ipython3",
   "version": "3.9.18"
  }
 },
 "nbformat": 4,
 "nbformat_minor": 5
}
